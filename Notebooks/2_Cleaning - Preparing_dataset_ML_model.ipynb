{
 "cells": [
  {
   "cell_type": "markdown",
   "id": "2f42bed9",
   "metadata": {},
   "source": [
    "# Data cleaning - Merging \"new cases\" and \"vaccination\" datasets"
   ]
  },
  {
   "cell_type": "markdown",
   "id": "8e79a94a",
   "metadata": {},
   "source": [
    "The goal is to create a single dataset from the two original datasets. The \"new cases\" has data on a daily basis, whereas the \"vaccination\" dataset has weekly data. To merge them both, I will group the former by week, so that I can merge them afterwards."
   ]
  },
  {
   "cell_type": "code",
   "execution_count": 1,
   "id": "a28521bb",
   "metadata": {},
   "outputs": [],
   "source": [
    "import pandas as pd\n",
    "import numpy as np\n",
    "import datetime as dt\n",
    "import matplotlib.pyplot as plt\n",
    "import seaborn as sns"
   ]
  },
  {
   "cell_type": "markdown",
   "id": "887fe4ac",
   "metadata": {},
   "source": [
    "## Import data & EDA"
   ]
  },
  {
   "cell_type": "code",
   "execution_count": 2,
   "id": "c0387764",
   "metadata": {},
   "outputs": [
    {
     "data": {
      "text/html": [
       "<div>\n",
       "<style scoped>\n",
       "    .dataframe tbody tr th:only-of-type {\n",
       "        vertical-align: middle;\n",
       "    }\n",
       "\n",
       "    .dataframe tbody tr th {\n",
       "        vertical-align: top;\n",
       "    }\n",
       "\n",
       "    .dataframe thead th {\n",
       "        text-align: right;\n",
       "    }\n",
       "</style>\n",
       "<table border=\"1\" class=\"dataframe\">\n",
       "  <thead>\n",
       "    <tr style=\"text-align: right;\">\n",
       "      <th></th>\n",
       "      <th>year_week_</th>\n",
       "      <th>ReportingCountry</th>\n",
       "      <th>first_dose_100k</th>\n",
       "      <th>second_dose_100k</th>\n",
       "      <th>cmltve_first_dose</th>\n",
       "      <th>cmltve_second_dose</th>\n",
       "    </tr>\n",
       "  </thead>\n",
       "  <tbody>\n",
       "    <tr>\n",
       "      <th>0</th>\n",
       "      <td>2021-01</td>\n",
       "      <td>AT</td>\n",
       "      <td>711.016121</td>\n",
       "      <td>0.000000</td>\n",
       "      <td>711.016121</td>\n",
       "      <td>0.000000</td>\n",
       "    </tr>\n",
       "    <tr>\n",
       "      <th>1</th>\n",
       "      <td>2021-02</td>\n",
       "      <td>AT</td>\n",
       "      <td>1914.647507</td>\n",
       "      <td>9.100036</td>\n",
       "      <td>2625.663629</td>\n",
       "      <td>9.100036</td>\n",
       "    </tr>\n",
       "    <tr>\n",
       "      <th>2</th>\n",
       "      <td>2021-03</td>\n",
       "      <td>AT</td>\n",
       "      <td>2101.748735</td>\n",
       "      <td>103.965099</td>\n",
       "      <td>4727.412363</td>\n",
       "      <td>113.065135</td>\n",
       "    </tr>\n",
       "    <tr>\n",
       "      <th>3</th>\n",
       "      <td>2021-04</td>\n",
       "      <td>AT</td>\n",
       "      <td>712.521559</td>\n",
       "      <td>395.503279</td>\n",
       "      <td>5439.933923</td>\n",
       "      <td>508.568414</td>\n",
       "    </tr>\n",
       "    <tr>\n",
       "      <th>4</th>\n",
       "      <td>2021-05</td>\n",
       "      <td>AT</td>\n",
       "      <td>419.118433</td>\n",
       "      <td>1789.583807</td>\n",
       "      <td>5859.052356</td>\n",
       "      <td>2298.152221</td>\n",
       "    </tr>\n",
       "    <tr>\n",
       "      <th>...</th>\n",
       "      <td>...</td>\n",
       "      <td>...</td>\n",
       "      <td>...</td>\n",
       "      <td>...</td>\n",
       "      <td>...</td>\n",
       "      <td>...</td>\n",
       "    </tr>\n",
       "    <tr>\n",
       "      <th>1830</th>\n",
       "      <td>2022-05</td>\n",
       "      <td>SK</td>\n",
       "      <td>138.057445</td>\n",
       "      <td>379.580104</td>\n",
       "      <td>100930.050956</td>\n",
       "      <td>92180.305405</td>\n",
       "    </tr>\n",
       "    <tr>\n",
       "      <th>1831</th>\n",
       "      <td>2022-06</td>\n",
       "      <td>SK</td>\n",
       "      <td>81.423661</td>\n",
       "      <td>313.070678</td>\n",
       "      <td>101011.474617</td>\n",
       "      <td>92493.376083</td>\n",
       "    </tr>\n",
       "    <tr>\n",
       "      <th>1832</th>\n",
       "      <td>2022-07</td>\n",
       "      <td>SK</td>\n",
       "      <td>44.742705</td>\n",
       "      <td>229.558291</td>\n",
       "      <td>101056.217321</td>\n",
       "      <td>92722.934374</td>\n",
       "    </tr>\n",
       "    <tr>\n",
       "      <th>1833</th>\n",
       "      <td>2022-08</td>\n",
       "      <td>SK</td>\n",
       "      <td>28.124509</td>\n",
       "      <td>151.029531</td>\n",
       "      <td>101084.341831</td>\n",
       "      <td>92873.963905</td>\n",
       "    </tr>\n",
       "    <tr>\n",
       "      <th>1834</th>\n",
       "      <td>2022-09</td>\n",
       "      <td>SK</td>\n",
       "      <td>8.080071</td>\n",
       "      <td>42.544046</td>\n",
       "      <td>101092.421901</td>\n",
       "      <td>92916.507951</td>\n",
       "    </tr>\n",
       "  </tbody>\n",
       "</table>\n",
       "<p>1835 rows × 6 columns</p>\n",
       "</div>"
      ],
      "text/plain": [
       "     year_week_ ReportingCountry  first_dose_100k  second_dose_100k  \\\n",
       "0       2021-01               AT       711.016121          0.000000   \n",
       "1       2021-02               AT      1914.647507          9.100036   \n",
       "2       2021-03               AT      2101.748735        103.965099   \n",
       "3       2021-04               AT       712.521559        395.503279   \n",
       "4       2021-05               AT       419.118433       1789.583807   \n",
       "...         ...              ...              ...               ...   \n",
       "1830    2022-05               SK       138.057445        379.580104   \n",
       "1831    2022-06               SK        81.423661        313.070678   \n",
       "1832    2022-07               SK        44.742705        229.558291   \n",
       "1833    2022-08               SK        28.124509        151.029531   \n",
       "1834    2022-09               SK         8.080071         42.544046   \n",
       "\n",
       "      cmltve_first_dose  cmltve_second_dose  \n",
       "0            711.016121            0.000000  \n",
       "1           2625.663629            9.100036  \n",
       "2           4727.412363          113.065135  \n",
       "3           5439.933923          508.568414  \n",
       "4           5859.052356         2298.152221  \n",
       "...                 ...                 ...  \n",
       "1830      100930.050956        92180.305405  \n",
       "1831      101011.474617        92493.376083  \n",
       "1832      101056.217321        92722.934374  \n",
       "1833      101084.341831        92873.963905  \n",
       "1834      101092.421901        92916.507951  \n",
       "\n",
       "[1835 rows x 6 columns]"
      ]
     },
     "metadata": {},
     "output_type": "display_data"
    },
    {
     "name": "stdout",
     "output_type": "stream",
     "text": [
      "<class 'pandas.core.frame.DataFrame'>\n",
      "RangeIndex: 1835 entries, 0 to 1834\n",
      "Data columns (total 6 columns):\n",
      " #   Column              Non-Null Count  Dtype  \n",
      "---  ------              --------------  -----  \n",
      " 0   year_week_          1835 non-null   object \n",
      " 1   ReportingCountry    1835 non-null   object \n",
      " 2   first_dose_100k     1835 non-null   float64\n",
      " 3   second_dose_100k    1835 non-null   float64\n",
      " 4   cmltve_first_dose   1835 non-null   float64\n",
      " 5   cmltve_second_dose  1835 non-null   float64\n",
      "dtypes: float64(4), object(2)\n",
      "memory usage: 86.1+ KB\n"
     ]
    }
   ],
   "source": [
    "vax_df=pd.read_csv('../datasets_Tableau_clean/vax_grouped_dataset.csv').drop('Unnamed: 0',axis=1)\n",
    "vax_df['YearWeekISO']=pd.to_datetime(vax_df['YearWeekISO'],errors='coerce')\n",
    "vax_df['year_week_']=vax_df['YearWeekISO'].dt.strftime('%Y-%W')\n",
    "#vax_df['date']=vax_df['date'].apply(lambda x: x.replace('-',''))+'1'\n",
    "#vax_df['date']=pd.to_datetime(vax_df['date'], format=\"%Y%W%w\", errors='raise')\n",
    "vax_df.drop('YearWeekISO',axis=1,inplace=True)\n",
    "new_columns=['year_week_','ReportingCountry', 'first_dose_100k','second_dose_100k', 'cmltve_first_dose','cmltve_second_dose']\n",
    "vax_df=vax_df[new_columns]\n",
    "display(vax_df)\n",
    "vax_df.info()"
   ]
  },
  {
   "cell_type": "code",
   "execution_count": 3,
   "id": "70b78aed",
   "metadata": {},
   "outputs": [
    {
     "data": {
      "text/html": [
       "<div>\n",
       "<style scoped>\n",
       "    .dataframe tbody tr th:only-of-type {\n",
       "        vertical-align: middle;\n",
       "    }\n",
       "\n",
       "    .dataframe tbody tr th {\n",
       "        vertical-align: top;\n",
       "    }\n",
       "\n",
       "    .dataframe thead th {\n",
       "        text-align: right;\n",
       "    }\n",
       "</style>\n",
       "<table border=\"1\" class=\"dataframe\">\n",
       "  <thead>\n",
       "    <tr style=\"text-align: right;\">\n",
       "      <th></th>\n",
       "      <th>geoId</th>\n",
       "      <th>year_week</th>\n",
       "      <th>cases_per_100khab</th>\n",
       "      <th>deaths_per_100khab</th>\n",
       "      <th>cmltve_cases</th>\n",
       "      <th>cmltve_deaths</th>\n",
       "    </tr>\n",
       "  </thead>\n",
       "  <tbody>\n",
       "    <tr>\n",
       "      <th>0</th>\n",
       "      <td>AT</td>\n",
       "      <td>2020-00</td>\n",
       "      <td>6.628421</td>\n",
       "      <td>0.157285</td>\n",
       "      <td>12.886100</td>\n",
       "      <td>0.280865</td>\n",
       "    </tr>\n",
       "    <tr>\n",
       "      <th>1</th>\n",
       "      <td>AT</td>\n",
       "      <td>2020-01</td>\n",
       "      <td>108.604994</td>\n",
       "      <td>1.808773</td>\n",
       "      <td>242.139591</td>\n",
       "      <td>3.505199</td>\n",
       "    </tr>\n",
       "    <tr>\n",
       "      <th>2</th>\n",
       "      <td>AT</td>\n",
       "      <td>2020-05</td>\n",
       "      <td>11.976096</td>\n",
       "      <td>0.258396</td>\n",
       "      <td>847.932337</td>\n",
       "      <td>15.245368</td>\n",
       "    </tr>\n",
       "    <tr>\n",
       "      <th>3</th>\n",
       "      <td>AT</td>\n",
       "      <td>2020-06</td>\n",
       "      <td>109.829566</td>\n",
       "      <td>1.797538</td>\n",
       "      <td>572.571998</td>\n",
       "      <td>9.010159</td>\n",
       "    </tr>\n",
       "    <tr>\n",
       "      <th>4</th>\n",
       "      <td>AT</td>\n",
       "      <td>2020-08</td>\n",
       "      <td>0.089877</td>\n",
       "      <td>0.000000</td>\n",
       "      <td>948.369768</td>\n",
       "      <td>16.087964</td>\n",
       "    </tr>\n",
       "    <tr>\n",
       "      <th>...</th>\n",
       "      <td>...</td>\n",
       "      <td>...</td>\n",
       "      <td>...</td>\n",
       "      <td>...</td>\n",
       "      <td>...</td>\n",
       "      <td>...</td>\n",
       "    </tr>\n",
       "    <tr>\n",
       "      <th>3662</th>\n",
       "      <td>SK</td>\n",
       "      <td>2022-31</td>\n",
       "      <td>513.460097</td>\n",
       "      <td>0.879463</td>\n",
       "      <td>75139.271288</td>\n",
       "      <td>672.588021</td>\n",
       "    </tr>\n",
       "    <tr>\n",
       "      <th>3663</th>\n",
       "      <td>SK</td>\n",
       "      <td>2022-35</td>\n",
       "      <td>477.823504</td>\n",
       "      <td>0.971074</td>\n",
       "      <td>76108.824811</td>\n",
       "      <td>674.401914</td>\n",
       "    </tr>\n",
       "    <tr>\n",
       "      <th>3664</th>\n",
       "      <td>SK</td>\n",
       "      <td>2022-39</td>\n",
       "      <td>505.471637</td>\n",
       "      <td>1.355840</td>\n",
       "      <td>77130.376614</td>\n",
       "      <td>677.150238</td>\n",
       "    </tr>\n",
       "    <tr>\n",
       "      <th>3665</th>\n",
       "      <td>SK</td>\n",
       "      <td>2022-44</td>\n",
       "      <td>506.021302</td>\n",
       "      <td>1.081007</td>\n",
       "      <td>78148.886938</td>\n",
       "      <td>679.440507</td>\n",
       "    </tr>\n",
       "    <tr>\n",
       "      <th>3666</th>\n",
       "      <td>SK</td>\n",
       "      <td>2022-48</td>\n",
       "      <td>369.960972</td>\n",
       "      <td>1.117652</td>\n",
       "      <td>79017.393772</td>\n",
       "      <td>681.730777</td>\n",
       "    </tr>\n",
       "  </tbody>\n",
       "</table>\n",
       "<p>3667 rows × 6 columns</p>\n",
       "</div>"
      ],
      "text/plain": [
       "     geoId year_week  cases_per_100khab  deaths_per_100khab  cmltve_cases  \\\n",
       "0       AT   2020-00           6.628421            0.157285     12.886100   \n",
       "1       AT   2020-01         108.604994            1.808773    242.139591   \n",
       "2       AT   2020-05          11.976096            0.258396    847.932337   \n",
       "3       AT   2020-06         109.829566            1.797538    572.571998   \n",
       "4       AT   2020-08           0.089877            0.000000    948.369768   \n",
       "...    ...       ...                ...                 ...           ...   \n",
       "3662    SK   2022-31         513.460097            0.879463  75139.271288   \n",
       "3663    SK   2022-35         477.823504            0.971074  76108.824811   \n",
       "3664    SK   2022-39         505.471637            1.355840  77130.376614   \n",
       "3665    SK   2022-44         506.021302            1.081007  78148.886938   \n",
       "3666    SK   2022-48         369.960972            1.117652  79017.393772   \n",
       "\n",
       "      cmltve_deaths  \n",
       "0          0.280865  \n",
       "1          3.505199  \n",
       "2         15.245368  \n",
       "3          9.010159  \n",
       "4         16.087964  \n",
       "...             ...  \n",
       "3662     672.588021  \n",
       "3663     674.401914  \n",
       "3664     677.150238  \n",
       "3665     679.440507  \n",
       "3666     681.730777  \n",
       "\n",
       "[3667 rows x 6 columns]"
      ]
     },
     "metadata": {},
     "output_type": "display_data"
    },
    {
     "name": "stdout",
     "output_type": "stream",
     "text": [
      "<class 'pandas.core.frame.DataFrame'>\n",
      "Int64Index: 3667 entries, 0 to 3666\n",
      "Data columns (total 6 columns):\n",
      " #   Column              Non-Null Count  Dtype  \n",
      "---  ------              --------------  -----  \n",
      " 0   geoId               3667 non-null   object \n",
      " 1   year_week           3667 non-null   object \n",
      " 2   cases_per_100khab   3667 non-null   float64\n",
      " 3   deaths_per_100khab  3667 non-null   float64\n",
      " 4   cmltve_cases        3667 non-null   float64\n",
      " 5   cmltve_deaths       3667 non-null   float64\n",
      "dtypes: float64(4), object(2)\n",
      "memory usage: 200.5+ KB\n"
     ]
    }
   ],
   "source": [
    "nc_df=pd.read_csv('../datasets_Tableau_clean//new_cases_dataset.csv').drop('Unnamed: 0',axis=1)\n",
    "nc_df['dateRep'] = pd.to_datetime(nc_df['dateRep'],errors='coerce')\n",
    "nc_df.drop('dateRep',axis=1,inplace=True)\n",
    "nc_df_grouped=nc_df.groupby(['geoId','year_week'], as_index=False).agg({'cases_per_100khab':'sum', \n",
    "                         'deaths_per_100khab':'sum', \n",
    "                         'cmltve_cases':'sum','cmltve_deaths':'sum'}).sort_values(['geoId','year_week'], axis=0, ascending=True)\n",
    "display(nc_df_grouped)\n",
    "nc_df_grouped.info()"
   ]
  },
  {
   "cell_type": "code",
   "execution_count": 4,
   "id": "42c1c4ba",
   "metadata": {},
   "outputs": [
    {
     "name": "stdout",
     "output_type": "stream",
     "text": [
      "<class 'pandas.core.frame.DataFrame'>\n",
      "Int64Index: 3667 entries, 0 to 3666\n",
      "Data columns (total 12 columns):\n",
      " #   Column              Non-Null Count  Dtype  \n",
      "---  ------              --------------  -----  \n",
      " 0   geoId               3667 non-null   object \n",
      " 1   year_week           3667 non-null   object \n",
      " 2   cases_per_100khab   3667 non-null   float64\n",
      " 3   deaths_per_100khab  3667 non-null   float64\n",
      " 4   cmltve_cases        3667 non-null   float64\n",
      " 5   cmltve_deaths       3667 non-null   float64\n",
      " 6   year_week_          1832 non-null   object \n",
      " 7   ReportingCountry    1832 non-null   object \n",
      " 8   first_dose_100k     1832 non-null   float64\n",
      " 9   second_dose_100k    1832 non-null   float64\n",
      " 10  cmltve_first_dose   1832 non-null   float64\n",
      " 11  cmltve_second_dose  1832 non-null   float64\n",
      "dtypes: float64(8), object(4)\n",
      "memory usage: 372.4+ KB\n"
     ]
    }
   ],
   "source": [
    "data=nc_df_grouped.merge(vax_df,how='left',left_on=['year_week','geoId'],right_on=['year_week_','ReportingCountry'])\n",
    "data.info()"
   ]
  },
  {
   "cell_type": "code",
   "execution_count": 5,
   "id": "9beb60f6",
   "metadata": {},
   "outputs": [
    {
     "data": {
      "image/png": "[encoded data removed]",
      "text/plain": [
       "<Figure size 432x288 with 1 Axes>"
      ]
     },
     "metadata": {
      "needs_background": "light"
     },
     "output_type": "display_data"
    }
   ],
   "source": [
    "#Line Plot for EDA\n",
    "ax=sns.lineplot(data=data, x=\"year_week\", y=\"cases_per_100khab\")\n",
    "#plt.xticks([1,2,3],['2020','2021','2022'])"
   ]
  },
  {
   "cell_type": "code",
   "execution_count": 6,
   "id": "e1f40f63",
   "metadata": {},
   "outputs": [
    {
     "data": {
      "text/plain": [
       "<AxesSubplot:xlabel='year_week', ylabel='first_dose_100k'>"
      ]
     },
     "execution_count": 6,
     "metadata": {},
     "output_type": "execute_result"
    },
    {
     "data": {
      "image/png": "[encoded data removed]",
      "text/plain": [
       "<Figure size 432x288 with 1 Axes>"
      ]
     },
     "metadata": {
      "needs_background": "light"
     },
     "output_type": "display_data"
    }
   ],
   "source": [
    "sns.lineplot(data=data, x=\"year_week\", y=\"first_dose_100k\")"
   ]
  },
  {
   "cell_type": "code",
   "execution_count": 7,
   "id": "a0fa1c23",
   "metadata": {},
   "outputs": [],
   "source": [
    "data.fillna(value=0, axis=0, inplace=True)"
   ]
  },
  {
   "cell_type": "code",
   "execution_count": 8,
   "id": "9f0dcaa0",
   "metadata": {},
   "outputs": [
    {
     "data": {
      "text/plain": [
       "<AxesSubplot:xlabel='year_week', ylabel='first_dose_100k'>"
      ]
     },
     "execution_count": 8,
     "metadata": {},
     "output_type": "execute_result"
    },
    {
     "data": {
      "image/png": "[encoded data removed]",
      "text/plain": [
       "<Figure size 432x288 with 1 Axes>"
      ]
     },
     "metadata": {
      "needs_background": "light"
     },
     "output_type": "display_data"
    }
   ],
   "source": [
    "sns.lineplot(data=data, x=\"year_week\", y=\"first_dose_100k\")"
   ]
  },
  {
   "cell_type": "code",
   "execution_count": 9,
   "id": "56c90c16",
   "metadata": {},
   "outputs": [
    {
     "name": "stdout",
     "output_type": "stream",
     "text": [
      "<class 'pandas.core.frame.DataFrame'>\n",
      "Int64Index: 3667 entries, 0 to 3666\n",
      "Data columns (total 12 columns):\n",
      " #   Column              Non-Null Count  Dtype  \n",
      "---  ------              --------------  -----  \n",
      " 0   geoId               3667 non-null   object \n",
      " 1   year_week           3667 non-null   object \n",
      " 2   cases_per_100khab   3667 non-null   float64\n",
      " 3   deaths_per_100khab  3667 non-null   float64\n",
      " 4   cmltve_cases        3667 non-null   float64\n",
      " 5   cmltve_deaths       3667 non-null   float64\n",
      " 6   year_week_          3667 non-null   object \n",
      " 7   ReportingCountry    3667 non-null   object \n",
      " 8   first_dose_100k     3667 non-null   float64\n",
      " 9   second_dose_100k    3667 non-null   float64\n",
      " 10  cmltve_first_dose   3667 non-null   float64\n",
      " 11  cmltve_second_dose  3667 non-null   float64\n",
      "dtypes: float64(8), object(4)\n",
      "memory usage: 372.4+ KB\n"
     ]
    }
   ],
   "source": [
    "data.info()"
   ]
  },
  {
   "cell_type": "code",
   "execution_count": 10,
   "id": "5b7baac2",
   "metadata": {},
   "outputs": [],
   "source": [
    "data.dropna(axis=0,inplace=True)\n",
    "data.drop(['year_week_','ReportingCountry'],axis=1,inplace=True)"
   ]
  },
  {
   "cell_type": "code",
   "execution_count": 11,
   "id": "6e13ab5c",
   "metadata": {},
   "outputs": [
    {
     "name": "stdout",
     "output_type": "stream",
     "text": [
      "<class 'pandas.core.frame.DataFrame'>\n",
      "Int64Index: 3667 entries, 0 to 3666\n",
      "Data columns (total 10 columns):\n",
      " #   Column              Non-Null Count  Dtype  \n",
      "---  ------              --------------  -----  \n",
      " 0   geoId               3667 non-null   object \n",
      " 1   year_week           3667 non-null   object \n",
      " 2   cases_per_100khab   3667 non-null   float64\n",
      " 3   deaths_per_100khab  3667 non-null   float64\n",
      " 4   cmltve_cases        3667 non-null   float64\n",
      " 5   cmltve_deaths       3667 non-null   float64\n",
      " 6   first_dose_100k     3667 non-null   float64\n",
      " 7   second_dose_100k    3667 non-null   float64\n",
      " 8   cmltve_first_dose   3667 non-null   float64\n",
      " 9   cmltve_second_dose  3667 non-null   float64\n",
      "dtypes: float64(8), object(2)\n",
      "memory usage: 315.1+ KB\n"
     ]
    },
    {
     "data": {
      "text/plain": [
       "(3667, 10)"
      ]
     },
     "execution_count": 11,
     "metadata": {},
     "output_type": "execute_result"
    }
   ],
   "source": [
    "data.info()\n",
    "data.shape"
   ]
  },
  {
   "cell_type": "markdown",
   "id": "aa3115af",
   "metadata": {},
   "source": [
    "I filled the NaN values with 0. Those values might be artifacts, yet we really didn't have vaccines before 2021, so we could consider those points as 0 anyway."
   ]
  },
  {
   "cell_type": "markdown",
   "id": "e198ae49",
   "metadata": {},
   "source": [
    "### Extract features from date"
   ]
  },
  {
   "cell_type": "code",
   "execution_count": 12,
   "id": "9a233e8f",
   "metadata": {},
   "outputs": [],
   "source": [
    "#data.info()\n",
    "data['week']=data['year_week'].str.slice(start=-2)#.astype(int)\n",
    "data['year']=data['year_week'].str.slice(stop=4)#.astype(int)"
   ]
  },
  {
   "cell_type": "code",
   "execution_count": 13,
   "id": "0e33f264",
   "metadata": {},
   "outputs": [
    {
     "data": {
      "text/html": [
       "<div>\n",
       "<style scoped>\n",
       "    .dataframe tbody tr th:only-of-type {\n",
       "        vertical-align: middle;\n",
       "    }\n",
       "\n",
       "    .dataframe tbody tr th {\n",
       "        vertical-align: top;\n",
       "    }\n",
       "\n",
       "    .dataframe thead th {\n",
       "        text-align: right;\n",
       "    }\n",
       "</style>\n",
       "<table border=\"1\" class=\"dataframe\">\n",
       "  <thead>\n",
       "    <tr style=\"text-align: right;\">\n",
       "      <th></th>\n",
       "      <th>geoId</th>\n",
       "      <th>year_week</th>\n",
       "      <th>cases_per_100khab</th>\n",
       "      <th>deaths_per_100khab</th>\n",
       "      <th>cmltve_cases</th>\n",
       "      <th>cmltve_deaths</th>\n",
       "      <th>first_dose_100k</th>\n",
       "      <th>second_dose_100k</th>\n",
       "      <th>cmltve_first_dose</th>\n",
       "      <th>cmltve_second_dose</th>\n",
       "      <th>week</th>\n",
       "      <th>year</th>\n",
       "    </tr>\n",
       "  </thead>\n",
       "  <tbody>\n",
       "    <tr>\n",
       "      <th>0</th>\n",
       "      <td>AT</td>\n",
       "      <td>2020-00</td>\n",
       "      <td>6.628421</td>\n",
       "      <td>0.157285</td>\n",
       "      <td>12.886100</td>\n",
       "      <td>0.280865</td>\n",
       "      <td>0.0</td>\n",
       "      <td>0.0</td>\n",
       "      <td>0.0</td>\n",
       "      <td>0.0</td>\n",
       "      <td>00</td>\n",
       "      <td>2020</td>\n",
       "    </tr>\n",
       "    <tr>\n",
       "      <th>1</th>\n",
       "      <td>AT</td>\n",
       "      <td>2020-01</td>\n",
       "      <td>108.604994</td>\n",
       "      <td>1.808773</td>\n",
       "      <td>242.139591</td>\n",
       "      <td>3.505199</td>\n",
       "      <td>0.0</td>\n",
       "      <td>0.0</td>\n",
       "      <td>0.0</td>\n",
       "      <td>0.0</td>\n",
       "      <td>01</td>\n",
       "      <td>2020</td>\n",
       "    </tr>\n",
       "    <tr>\n",
       "      <th>2</th>\n",
       "      <td>AT</td>\n",
       "      <td>2020-05</td>\n",
       "      <td>11.976096</td>\n",
       "      <td>0.258396</td>\n",
       "      <td>847.932337</td>\n",
       "      <td>15.245368</td>\n",
       "      <td>0.0</td>\n",
       "      <td>0.0</td>\n",
       "      <td>0.0</td>\n",
       "      <td>0.0</td>\n",
       "      <td>05</td>\n",
       "      <td>2020</td>\n",
       "    </tr>\n",
       "    <tr>\n",
       "      <th>3</th>\n",
       "      <td>AT</td>\n",
       "      <td>2020-06</td>\n",
       "      <td>109.829566</td>\n",
       "      <td>1.797538</td>\n",
       "      <td>572.571998</td>\n",
       "      <td>9.010159</td>\n",
       "      <td>0.0</td>\n",
       "      <td>0.0</td>\n",
       "      <td>0.0</td>\n",
       "      <td>0.0</td>\n",
       "      <td>06</td>\n",
       "      <td>2020</td>\n",
       "    </tr>\n",
       "    <tr>\n",
       "      <th>4</th>\n",
       "      <td>AT</td>\n",
       "      <td>2020-08</td>\n",
       "      <td>0.089877</td>\n",
       "      <td>0.000000</td>\n",
       "      <td>948.369768</td>\n",
       "      <td>16.087964</td>\n",
       "      <td>0.0</td>\n",
       "      <td>0.0</td>\n",
       "      <td>0.0</td>\n",
       "      <td>0.0</td>\n",
       "      <td>08</td>\n",
       "      <td>2020</td>\n",
       "    </tr>\n",
       "  </tbody>\n",
       "</table>\n",
       "</div>"
      ],
      "text/plain": [
       "  geoId year_week  cases_per_100khab  deaths_per_100khab  cmltve_cases  \\\n",
       "0    AT   2020-00           6.628421            0.157285     12.886100   \n",
       "1    AT   2020-01         108.604994            1.808773    242.139591   \n",
       "2    AT   2020-05          11.976096            0.258396    847.932337   \n",
       "3    AT   2020-06         109.829566            1.797538    572.571998   \n",
       "4    AT   2020-08           0.089877            0.000000    948.369768   \n",
       "\n",
       "   cmltve_deaths  first_dose_100k  second_dose_100k  cmltve_first_dose  \\\n",
       "0       0.280865              0.0               0.0                0.0   \n",
       "1       3.505199              0.0               0.0                0.0   \n",
       "2      15.245368              0.0               0.0                0.0   \n",
       "3       9.010159              0.0               0.0                0.0   \n",
       "4      16.087964              0.0               0.0                0.0   \n",
       "\n",
       "   cmltve_second_dose week  year  \n",
       "0                 0.0   00  2020  \n",
       "1                 0.0   01  2020  \n",
       "2                 0.0   05  2020  \n",
       "3                 0.0   06  2020  \n",
       "4                 0.0   08  2020  "
      ]
     },
     "metadata": {},
     "output_type": "display_data"
    },
    {
     "name": "stdout",
     "output_type": "stream",
     "text": [
      "<class 'pandas.core.frame.DataFrame'>\n",
      "Int64Index: 3667 entries, 0 to 3666\n",
      "Data columns (total 12 columns):\n",
      " #   Column              Non-Null Count  Dtype  \n",
      "---  ------              --------------  -----  \n",
      " 0   geoId               3667 non-null   object \n",
      " 1   year_week           3667 non-null   object \n",
      " 2   cases_per_100khab   3667 non-null   float64\n",
      " 3   deaths_per_100khab  3667 non-null   float64\n",
      " 4   cmltve_cases        3667 non-null   float64\n",
      " 5   cmltve_deaths       3667 non-null   float64\n",
      " 6   first_dose_100k     3667 non-null   float64\n",
      " 7   second_dose_100k    3667 non-null   float64\n",
      " 8   cmltve_first_dose   3667 non-null   float64\n",
      " 9   cmltve_second_dose  3667 non-null   float64\n",
      " 10  week                3667 non-null   object \n",
      " 11  year                3667 non-null   object \n",
      "dtypes: float64(8), object(4)\n",
      "memory usage: 372.4+ KB\n"
     ]
    }
   ],
   "source": [
    "display(data.head())\n",
    "data.info()"
   ]
  },
  {
   "cell_type": "code",
   "execution_count": 14,
   "id": "9f82fb4e",
   "metadata": {},
   "outputs": [],
   "source": [
    "data.drop('year_week',axis=1,inplace=True)"
   ]
  },
  {
   "cell_type": "code",
   "execution_count": 19,
   "id": "049c543d",
   "metadata": {},
   "outputs": [],
   "source": [
    "new_columns=['year','week','geoId','cases_per_100khab','cmltve_cases','first_dose_100k','cmltve_first_dose','second_dose_100k','cmltve_second_dose','deaths_per_100khab','cmltve_deaths']\n",
    "data=data[new_columns]"
   ]
  },
  {
   "cell_type": "code",
   "execution_count": 20,
   "id": "1a1e3389",
   "metadata": {},
   "outputs": [
    {
     "data": {
      "text/html": [
       "<div>\n",
       "<style scoped>\n",
       "    .dataframe tbody tr th:only-of-type {\n",
       "        vertical-align: middle;\n",
       "    }\n",
       "\n",
       "    .dataframe tbody tr th {\n",
       "        vertical-align: top;\n",
       "    }\n",
       "\n",
       "    .dataframe thead th {\n",
       "        text-align: right;\n",
       "    }\n",
       "</style>\n",
       "<table border=\"1\" class=\"dataframe\">\n",
       "  <thead>\n",
       "    <tr style=\"text-align: right;\">\n",
       "      <th></th>\n",
       "      <th>year</th>\n",
       "      <th>week</th>\n",
       "      <th>geoId</th>\n",
       "      <th>cases_per_100khab</th>\n",
       "      <th>cmltve_cases</th>\n",
       "      <th>first_dose_100k</th>\n",
       "      <th>cmltve_first_dose</th>\n",
       "      <th>second_dose_100k</th>\n",
       "      <th>cmltve_second_dose</th>\n",
       "      <th>deaths_per_100khab</th>\n",
       "      <th>cmltve_deaths</th>\n",
       "    </tr>\n",
       "  </thead>\n",
       "  <tbody>\n",
       "    <tr>\n",
       "      <th>0</th>\n",
       "      <td>2020</td>\n",
       "      <td>00</td>\n",
       "      <td>AT</td>\n",
       "      <td>6.628421</td>\n",
       "      <td>12.886100</td>\n",
       "      <td>0.0</td>\n",
       "      <td>0.0</td>\n",
       "      <td>0.0</td>\n",
       "      <td>0.0</td>\n",
       "      <td>0.157285</td>\n",
       "      <td>0.280865</td>\n",
       "    </tr>\n",
       "    <tr>\n",
       "      <th>1</th>\n",
       "      <td>2020</td>\n",
       "      <td>01</td>\n",
       "      <td>AT</td>\n",
       "      <td>108.604994</td>\n",
       "      <td>242.139591</td>\n",
       "      <td>0.0</td>\n",
       "      <td>0.0</td>\n",
       "      <td>0.0</td>\n",
       "      <td>0.0</td>\n",
       "      <td>1.808773</td>\n",
       "      <td>3.505199</td>\n",
       "    </tr>\n",
       "    <tr>\n",
       "      <th>2</th>\n",
       "      <td>2020</td>\n",
       "      <td>05</td>\n",
       "      <td>AT</td>\n",
       "      <td>11.976096</td>\n",
       "      <td>847.932337</td>\n",
       "      <td>0.0</td>\n",
       "      <td>0.0</td>\n",
       "      <td>0.0</td>\n",
       "      <td>0.0</td>\n",
       "      <td>0.258396</td>\n",
       "      <td>15.245368</td>\n",
       "    </tr>\n",
       "    <tr>\n",
       "      <th>3</th>\n",
       "      <td>2020</td>\n",
       "      <td>06</td>\n",
       "      <td>AT</td>\n",
       "      <td>109.829566</td>\n",
       "      <td>572.571998</td>\n",
       "      <td>0.0</td>\n",
       "      <td>0.0</td>\n",
       "      <td>0.0</td>\n",
       "      <td>0.0</td>\n",
       "      <td>1.797538</td>\n",
       "      <td>9.010159</td>\n",
       "    </tr>\n",
       "    <tr>\n",
       "      <th>4</th>\n",
       "      <td>2020</td>\n",
       "      <td>08</td>\n",
       "      <td>AT</td>\n",
       "      <td>0.089877</td>\n",
       "      <td>948.369768</td>\n",
       "      <td>0.0</td>\n",
       "      <td>0.0</td>\n",
       "      <td>0.0</td>\n",
       "      <td>0.0</td>\n",
       "      <td>0.000000</td>\n",
       "      <td>16.087964</td>\n",
       "    </tr>\n",
       "  </tbody>\n",
       "</table>\n",
       "</div>"
      ],
      "text/plain": [
       "   year week geoId  cases_per_100khab  cmltve_cases  first_dose_100k  \\\n",
       "0  2020   00    AT           6.628421     12.886100              0.0   \n",
       "1  2020   01    AT         108.604994    242.139591              0.0   \n",
       "2  2020   05    AT          11.976096    847.932337              0.0   \n",
       "3  2020   06    AT         109.829566    572.571998              0.0   \n",
       "4  2020   08    AT           0.089877    948.369768              0.0   \n",
       "\n",
       "   cmltve_first_dose  second_dose_100k  cmltve_second_dose  \\\n",
       "0                0.0               0.0                 0.0   \n",
       "1                0.0               0.0                 0.0   \n",
       "2                0.0               0.0                 0.0   \n",
       "3                0.0               0.0                 0.0   \n",
       "4                0.0               0.0                 0.0   \n",
       "\n",
       "   deaths_per_100khab  cmltve_deaths  \n",
       "0            0.157285       0.280865  \n",
       "1            1.808773       3.505199  \n",
       "2            0.258396      15.245368  \n",
       "3            1.797538       9.010159  \n",
       "4            0.000000      16.087964  "
      ]
     },
     "execution_count": 20,
     "metadata": {},
     "output_type": "execute_result"
    }
   ],
   "source": [
    "data.head()"
   ]
  },
  {
   "cell_type": "markdown",
   "id": "d503601a",
   "metadata": {},
   "source": [
    "### Export data to csv"
   ]
  },
  {
   "cell_type": "code",
   "execution_count": 18,
   "id": "04c6ba47",
   "metadata": {},
   "outputs": [],
   "source": [
    "data.to_csv('../ML_models/data_for_ML.csv')"
   ]
  }
 ],
 "metadata": {
  "kernelspec": {
   "display_name": "Python 3",
   "language": "python",
   "name": "python3"
  },
  "language_info": {
   "codemirror_mode": {
    "name": "ipython",
    "version": 3
   },
   "file_extension": ".py",
   "mimetype": "text/x-python",
   "name": "python",
   "nbconvert_exporter": "python",
   "pygments_lexer": "ipython3",
   "version": "3.8.8"
  }
 },
 "nbformat": 4,
 "nbformat_minor": 5
}
