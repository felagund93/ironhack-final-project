{
 "cells": [
  {
   "cell_type": "markdown",
   "id": "08b87917",
   "metadata": {},
   "source": [
    "# Fitting the data to a ML Linear regression model"
   ]
  },
  {
   "cell_type": "markdown",
   "id": "de25b549",
   "metadata": {},
   "source": [
    "We will fit a model with the non-cumulative data and another with the cumulative data. This is because fitting both simultaneously can have an impact in the fit: the accumulated data can be \"contradictory\" with the non-cumulative."
   ]
  },
  {
   "cell_type": "code",
   "execution_count": 1,
   "id": "528ca264",
   "metadata": {},
   "outputs": [],
   "source": [
    "import pandas as pd\n",
    "import numpy as np\n",
    "import datetime\n",
    "import matplotlib.pyplot as plt\n",
    "import seaborn as sns\n",
    "import warnings\n",
    "pd.set_option('display.max_columns', None)\n",
    "warnings.filterwarnings('ignore')\n",
    "\n",
    "from sklearn.preprocessing import OneHotEncoder, StandardScaler, MinMaxScaler, Normalizer\n",
    "from sklearn.model_selection import train_test_split\n",
    "from sklearn.linear_model import LinearRegression\n",
    "from sklearn.metrics import r2_score, mean_squared_error, mean_absolute_error"
   ]
  },
  {
   "cell_type": "code",
   "execution_count": 2,
   "id": "a4a3fec0",
   "metadata": {},
   "outputs": [],
   "source": [
    "data = pd.read_csv('../ML_models/data_for_ML.csv').drop('Unnamed: 0',axis=1)"
   ]
  },
  {
   "cell_type": "code",
   "execution_count": 3,
   "id": "6645f91f",
   "metadata": {},
   "outputs": [
    {
     "data": {
      "text/html": [
       "<div>\n",
       "<style scoped>\n",
       "    .dataframe tbody tr th:only-of-type {\n",
       "        vertical-align: middle;\n",
       "    }\n",
       "\n",
       "    .dataframe tbody tr th {\n",
       "        vertical-align: top;\n",
       "    }\n",
       "\n",
       "    .dataframe thead th {\n",
       "        text-align: right;\n",
       "    }\n",
       "</style>\n",
       "<table border=\"1\" class=\"dataframe\">\n",
       "  <thead>\n",
       "    <tr style=\"text-align: right;\">\n",
       "      <th></th>\n",
       "      <th>year</th>\n",
       "      <th>week</th>\n",
       "      <th>geoId</th>\n",
       "      <th>cases_per_100khab</th>\n",
       "      <th>cmltve_cases</th>\n",
       "      <th>first_dose_100k</th>\n",
       "      <th>cmltve_first_dose</th>\n",
       "      <th>second_dose_100k</th>\n",
       "      <th>cmltve_second_dose</th>\n",
       "      <th>deaths_per_100khab</th>\n",
       "      <th>cmltve_deaths</th>\n",
       "    </tr>\n",
       "  </thead>\n",
       "  <tbody>\n",
       "    <tr>\n",
       "      <th>0</th>\n",
       "      <td>2020</td>\n",
       "      <td>0</td>\n",
       "      <td>AT</td>\n",
       "      <td>6.628421</td>\n",
       "      <td>12.886100</td>\n",
       "      <td>0.0</td>\n",
       "      <td>0.0</td>\n",
       "      <td>0.0</td>\n",
       "      <td>0.0</td>\n",
       "      <td>0.157285</td>\n",
       "      <td>0.280865</td>\n",
       "    </tr>\n",
       "    <tr>\n",
       "      <th>1</th>\n",
       "      <td>2020</td>\n",
       "      <td>1</td>\n",
       "      <td>AT</td>\n",
       "      <td>108.604994</td>\n",
       "      <td>242.139591</td>\n",
       "      <td>0.0</td>\n",
       "      <td>0.0</td>\n",
       "      <td>0.0</td>\n",
       "      <td>0.0</td>\n",
       "      <td>1.808773</td>\n",
       "      <td>3.505199</td>\n",
       "    </tr>\n",
       "    <tr>\n",
       "      <th>2</th>\n",
       "      <td>2020</td>\n",
       "      <td>5</td>\n",
       "      <td>AT</td>\n",
       "      <td>11.976096</td>\n",
       "      <td>847.932337</td>\n",
       "      <td>0.0</td>\n",
       "      <td>0.0</td>\n",
       "      <td>0.0</td>\n",
       "      <td>0.0</td>\n",
       "      <td>0.258396</td>\n",
       "      <td>15.245368</td>\n",
       "    </tr>\n",
       "    <tr>\n",
       "      <th>3</th>\n",
       "      <td>2020</td>\n",
       "      <td>6</td>\n",
       "      <td>AT</td>\n",
       "      <td>109.829566</td>\n",
       "      <td>572.571998</td>\n",
       "      <td>0.0</td>\n",
       "      <td>0.0</td>\n",
       "      <td>0.0</td>\n",
       "      <td>0.0</td>\n",
       "      <td>1.797538</td>\n",
       "      <td>9.010159</td>\n",
       "    </tr>\n",
       "    <tr>\n",
       "      <th>4</th>\n",
       "      <td>2020</td>\n",
       "      <td>8</td>\n",
       "      <td>AT</td>\n",
       "      <td>0.089877</td>\n",
       "      <td>948.369768</td>\n",
       "      <td>0.0</td>\n",
       "      <td>0.0</td>\n",
       "      <td>0.0</td>\n",
       "      <td>0.0</td>\n",
       "      <td>0.000000</td>\n",
       "      <td>16.087964</td>\n",
       "    </tr>\n",
       "  </tbody>\n",
       "</table>\n",
       "</div>"
      ],
      "text/plain": [
       "   year  week geoId  cases_per_100khab  cmltve_cases  first_dose_100k  \\\n",
       "0  2020     0    AT           6.628421     12.886100              0.0   \n",
       "1  2020     1    AT         108.604994    242.139591              0.0   \n",
       "2  2020     5    AT          11.976096    847.932337              0.0   \n",
       "3  2020     6    AT         109.829566    572.571998              0.0   \n",
       "4  2020     8    AT           0.089877    948.369768              0.0   \n",
       "\n",
       "   cmltve_first_dose  second_dose_100k  cmltve_second_dose  \\\n",
       "0                0.0               0.0                 0.0   \n",
       "1                0.0               0.0                 0.0   \n",
       "2                0.0               0.0                 0.0   \n",
       "3                0.0               0.0                 0.0   \n",
       "4                0.0               0.0                 0.0   \n",
       "\n",
       "   deaths_per_100khab  cmltve_deaths  \n",
       "0            0.157285       0.280865  \n",
       "1            1.808773       3.505199  \n",
       "2            0.258396      15.245368  \n",
       "3            1.797538       9.010159  \n",
       "4            0.000000      16.087964  "
      ]
     },
     "execution_count": 3,
     "metadata": {},
     "output_type": "execute_result"
    }
   ],
   "source": [
    "data.head()"
   ]
  },
  {
   "cell_type": "code",
   "execution_count": 4,
   "id": "f447babd",
   "metadata": {},
   "outputs": [],
   "source": [
    "data['year']=data['year'].astype(str)\n",
    "data['week']=data['week'].astype(str)"
   ]
  },
  {
   "cell_type": "code",
   "execution_count": 5,
   "id": "fd48326d",
   "metadata": {},
   "outputs": [
    {
     "name": "stdout",
     "output_type": "stream",
     "text": [
      "<class 'pandas.core.frame.DataFrame'>\n",
      "RangeIndex: 3667 entries, 0 to 3666\n",
      "Data columns (total 11 columns):\n",
      " #   Column              Non-Null Count  Dtype  \n",
      "---  ------              --------------  -----  \n",
      " 0   year                3667 non-null   object \n",
      " 1   week                3667 non-null   object \n",
      " 2   geoId               3667 non-null   object \n",
      " 3   cases_per_100khab   3667 non-null   float64\n",
      " 4   cmltve_cases        3667 non-null   float64\n",
      " 5   first_dose_100k     3667 non-null   float64\n",
      " 6   cmltve_first_dose   3667 non-null   float64\n",
      " 7   second_dose_100k    3667 non-null   float64\n",
      " 8   cmltve_second_dose  3667 non-null   float64\n",
      " 9   deaths_per_100khab  3667 non-null   float64\n",
      " 10  cmltve_deaths       3667 non-null   float64\n",
      "dtypes: float64(8), object(3)\n",
      "memory usage: 315.3+ KB\n"
     ]
    }
   ],
   "source": [
    "data.info()"
   ]
  },
  {
   "cell_type": "markdown",
   "id": "c410d5e3",
   "metadata": {},
   "source": [
    "## Non-cumulative data (data_new)"
   ]
  },
  {
   "cell_type": "code",
   "execution_count": 6,
   "id": "84747bed",
   "metadata": {},
   "outputs": [],
   "source": [
    "ncd=['year','week','geoId','cases_per_100khab','first_dose_100k','second_dose_100k','deaths_per_100khab']\n",
    "data_new=data[ncd]"
   ]
  },
  {
   "cell_type": "markdown",
   "id": "4a04795f",
   "metadata": {},
   "source": [
    "## EDA"
   ]
  },
  {
   "cell_type": "markdown",
   "id": "a0293078",
   "metadata": {},
   "source": [
    "### Numericals"
   ]
  },
  {
   "cell_type": "code",
   "execution_count": 7,
   "id": "e0481540",
   "metadata": {},
   "outputs": [
    {
     "data": {
      "text/html": [
       "<div>\n",
       "<style scoped>\n",
       "    .dataframe tbody tr th:only-of-type {\n",
       "        vertical-align: middle;\n",
       "    }\n",
       "\n",
       "    .dataframe tbody tr th {\n",
       "        vertical-align: top;\n",
       "    }\n",
       "\n",
       "    .dataframe thead th {\n",
       "        text-align: right;\n",
       "    }\n",
       "</style>\n",
       "<table border=\"1\" class=\"dataframe\">\n",
       "  <thead>\n",
       "    <tr style=\"text-align: right;\">\n",
       "      <th></th>\n",
       "      <th>cases_per_100khab</th>\n",
       "      <th>first_dose_100k</th>\n",
       "      <th>second_dose_100k</th>\n",
       "      <th>deaths_per_100khab</th>\n",
       "    </tr>\n",
       "  </thead>\n",
       "  <tbody>\n",
       "    <tr>\n",
       "      <th>count</th>\n",
       "      <td>3667.00</td>\n",
       "      <td>3667.00</td>\n",
       "      <td>3667.00</td>\n",
       "      <td>3667.00</td>\n",
       "    </tr>\n",
       "    <tr>\n",
       "      <th>mean</th>\n",
       "      <td>231.22</td>\n",
       "      <td>1419.92</td>\n",
       "      <td>1273.41</td>\n",
       "      <td>1.79</td>\n",
       "    </tr>\n",
       "    <tr>\n",
       "      <th>std</th>\n",
       "      <td>418.63</td>\n",
       "      <td>2795.19</td>\n",
       "      <td>2735.96</td>\n",
       "      <td>2.39</td>\n",
       "    </tr>\n",
       "    <tr>\n",
       "      <th>min</th>\n",
       "      <td>-407.19</td>\n",
       "      <td>0.00</td>\n",
       "      <td>0.00</td>\n",
       "      <td>-0.02</td>\n",
       "    </tr>\n",
       "    <tr>\n",
       "      <th>25%</th>\n",
       "      <td>28.71</td>\n",
       "      <td>0.00</td>\n",
       "      <td>0.00</td>\n",
       "      <td>0.24</td>\n",
       "    </tr>\n",
       "    <tr>\n",
       "      <th>50%</th>\n",
       "      <td>116.75</td>\n",
       "      <td>0.00</td>\n",
       "      <td>0.00</td>\n",
       "      <td>0.93</td>\n",
       "    </tr>\n",
       "    <tr>\n",
       "      <th>75%</th>\n",
       "      <td>261.09</td>\n",
       "      <td>1472.17</td>\n",
       "      <td>1138.27</td>\n",
       "      <td>2.44</td>\n",
       "    </tr>\n",
       "    <tr>\n",
       "      <th>max</th>\n",
       "      <td>6993.58</td>\n",
       "      <td>24286.06</td>\n",
       "      <td>26069.80</td>\n",
       "      <td>20.65</td>\n",
       "    </tr>\n",
       "  </tbody>\n",
       "</table>\n",
       "</div>"
      ],
      "text/plain": [
       "       cases_per_100khab  first_dose_100k  second_dose_100k  \\\n",
       "count            3667.00          3667.00           3667.00   \n",
       "mean              231.22          1419.92           1273.41   \n",
       "std               418.63          2795.19           2735.96   \n",
       "min              -407.19             0.00              0.00   \n",
       "25%                28.71             0.00              0.00   \n",
       "50%               116.75             0.00              0.00   \n",
       "75%               261.09          1472.17           1138.27   \n",
       "max              6993.58         24286.06          26069.80   \n",
       "\n",
       "       deaths_per_100khab  \n",
       "count             3667.00  \n",
       "mean                 1.79  \n",
       "std                  2.39  \n",
       "min                 -0.02  \n",
       "25%                  0.24  \n",
       "50%                  0.93  \n",
       "75%                  2.44  \n",
       "max                 20.65  "
      ]
     },
     "execution_count": 7,
     "metadata": {},
     "output_type": "execute_result"
    }
   ],
   "source": [
    "data_new.describe().round(2)"
   ]
  },
  {
   "cell_type": "code",
   "execution_count": 8,
   "id": "7613a475",
   "metadata": {},
   "outputs": [
    {
     "data": {
      "image/png": "[encoded data removed]",
      "text/plain": [
       "<Figure size 432x288 with 1 Axes>"
      ]
     },
     "metadata": {
      "needs_background": "light"
     },
     "output_type": "display_data"
    },
    {
     "data": {
      "image/png": "[encoded data removed]",
      "text/plain": [
       "<Figure size 432x288 with 1 Axes>"
      ]
     },
     "metadata": {
      "needs_background": "light"
     },
     "output_type": "display_data"
    },
    {
     "data": {
      "image/png": "[encoded data removed]",
      "text/plain": [
       "<Figure size 432x288 with 1 Axes>"
      ]
     },
     "metadata": {
      "needs_background": "light"
     },
     "output_type": "display_data"
    },
    {
     "data": {
      "image/png": "[encoded data removed]",
      "text/plain": [
       "<Figure size 432x288 with 1 Axes>"
      ]
     },
     "metadata": {
      "needs_background": "light"
     },
     "output_type": "display_data"
    }
   ],
   "source": [
    "for column in data_new.select_dtypes(np.number).columns:\n",
    "    sns.distplot(data_new[column])\n",
    "    plt.show()"
   ]
  },
  {
   "cell_type": "markdown",
   "id": "d8e10cd4",
   "metadata": {},
   "source": [
    "### Categoricals"
   ]
  },
  {
   "cell_type": "code",
   "execution_count": 9,
   "id": "cf0ad7ba",
   "metadata": {},
   "outputs": [
    {
     "data": {
      "image/png": "[encoded data removed]",
      "text/plain": [
       "<Figure size 432x288 with 1 Axes>"
      ]
     },
     "metadata": {
      "needs_background": "light"
     },
     "output_type": "display_data"
    },
    {
     "data": {
      "image/png": "[encoded data removed]",
      "text/plain": [
       "<Figure size 432x288 with 1 Axes>"
      ]
     },
     "metadata": {
      "needs_background": "light"
     },
     "output_type": "display_data"
    },
    {
     "data": {
      "image/png": "[encoded data removed]",
      "text/plain": [
       "<Figure size 432x288 with 1 Axes>"
      ]
     },
     "metadata": {
      "needs_background": "light"
     },
     "output_type": "display_data"
    }
   ],
   "source": [
    "for col in data_new.select_dtypes(np.object).columns:\n",
    "    sns.countplot(x=data_new[col]) #, hue=df['education']\n",
    "    plt.show()"
   ]
  },
  {
   "cell_type": "code",
   "execution_count": 10,
   "id": "d2c3f0fa",
   "metadata": {},
   "outputs": [],
   "source": [
    "#data['week'].value_counts()"
   ]
  },
  {
   "cell_type": "code",
   "execution_count": 11,
   "id": "b3e9bfc7",
   "metadata": {},
   "outputs": [
    {
     "data": {
      "image/png": "[encoded data removed]",
      "text/plain": [
       "<Figure size 1008x864 with 2 Axes>"
      ]
     },
     "metadata": {
      "needs_background": "light"
     },
     "output_type": "display_data"
    }
   ],
   "source": [
    "# Correlation matrix\n",
    "corr_mat = data_new.corr(method='spearman')\n",
    "mask = np.zeros_like(corr_mat)\n",
    "mask[np.triu_indices_from(mask)] = True # Mask to hide the repeated half of the matrix\n",
    "\n",
    "fig, ax = plt.subplots(figsize=(14, 12)) # this will set the width and height of the plot\n",
    "sns.set_context('paper') #This affects things like the size of the labels, lines, and other elements of the plot\n",
    "ax = sns.heatmap(corr_mat, mask=mask, annot=True, cmap='jet') # Heatmap declaration\n",
    "ax.set_title('Multi-collinearity of customer features') #Title for the graph\n",
    "plt.show()"
   ]
  },
  {
   "cell_type": "code",
   "execution_count": 12,
   "id": "5a3f80f1",
   "metadata": {},
   "outputs": [],
   "source": [
    "#data_new.drop('second_dose_100k', axis=1, inplace=True)"
   ]
  },
  {
   "cell_type": "markdown",
   "id": "c5bd2d5f",
   "metadata": {},
   "source": [
    "## Preprocessing"
   ]
  },
  {
   "cell_type": "code",
   "execution_count": 13,
   "id": "df3971af",
   "metadata": {},
   "outputs": [
    {
     "data": {
      "text/plain": [
       "Index(['year', 'week', 'geoId', 'cases_per_100khab', 'first_dose_100k',\n",
       "       'second_dose_100k'],\n",
       "      dtype='object')"
      ]
     },
     "execution_count": 13,
     "metadata": {},
     "output_type": "execute_result"
    }
   ],
   "source": [
    "# X-y Split\n",
    "y = data_new['deaths_per_100khab']\n",
    "X = data_new.drop(['deaths_per_100khab'], axis=1)\n",
    "X.columns"
   ]
  },
  {
   "cell_type": "code",
   "execution_count": 14,
   "id": "5e93d1f4",
   "metadata": {},
   "outputs": [],
   "source": [
    "# Separate numerical and categorical values\n",
    "\n",
    "X_num = X.select_dtypes(include='number')\n",
    "X_cat = X.select_dtypes(exclude='number')"
   ]
  },
  {
   "cell_type": "code",
   "execution_count": 15,
   "id": "e3f89d49",
   "metadata": {},
   "outputs": [
    {
     "data": {
      "text/plain": [
       "array([[0., 0., 0., ..., 0., 0., 0.],\n",
       "       [0., 0., 1., ..., 0., 0., 0.],\n",
       "       [0., 0., 0., ..., 0., 0., 0.],\n",
       "       ...,\n",
       "       [0., 1., 0., ..., 0., 0., 1.],\n",
       "       [0., 1., 0., ..., 0., 0., 1.],\n",
       "       [0., 1., 0., ..., 0., 0., 1.]])"
      ]
     },
     "execution_count": 15,
     "metadata": {},
     "output_type": "execute_result"
    }
   ],
   "source": [
    "# One Hot Encoding categorical variables\n",
    "\n",
    "encoder = OneHotEncoder(handle_unknown='error', drop='first') #drop one column for efficiency. It can be deduced\n",
    "X_cat_encoded = encoder.fit_transform(X_cat).toarray()\n",
    "X_cat_encoded"
   ]
  },
  {
   "cell_type": "code",
   "execution_count": 16,
   "id": "350e32d7",
   "metadata": {},
   "outputs": [
    {
     "data": {
      "text/html": [
       "<div>\n",
       "<style scoped>\n",
       "    .dataframe tbody tr th:only-of-type {\n",
       "        vertical-align: middle;\n",
       "    }\n",
       "\n",
       "    .dataframe tbody tr th {\n",
       "        vertical-align: top;\n",
       "    }\n",
       "\n",
       "    .dataframe thead th {\n",
       "        text-align: right;\n",
       "    }\n",
       "</style>\n",
       "<table border=\"1\" class=\"dataframe\">\n",
       "  <thead>\n",
       "    <tr style=\"text-align: right;\">\n",
       "      <th></th>\n",
       "      <th>cases_per_100khab</th>\n",
       "      <th>first_dose_100k</th>\n",
       "      <th>second_dose_100k</th>\n",
       "      <th>x0_2021</th>\n",
       "      <th>x0_2022</th>\n",
       "      <th>x1_1</th>\n",
       "      <th>x1_10</th>\n",
       "      <th>x1_11</th>\n",
       "      <th>x1_12</th>\n",
       "      <th>x1_13</th>\n",
       "      <th>x1_14</th>\n",
       "      <th>x1_15</th>\n",
       "      <th>x1_16</th>\n",
       "      <th>x1_17</th>\n",
       "      <th>x1_18</th>\n",
       "      <th>x1_19</th>\n",
       "      <th>x1_2</th>\n",
       "      <th>x1_20</th>\n",
       "      <th>x1_21</th>\n",
       "      <th>x1_22</th>\n",
       "      <th>x1_23</th>\n",
       "      <th>x1_24</th>\n",
       "      <th>x1_25</th>\n",
       "      <th>x1_26</th>\n",
       "      <th>x1_27</th>\n",
       "      <th>x1_28</th>\n",
       "      <th>x1_29</th>\n",
       "      <th>x1_3</th>\n",
       "      <th>x1_30</th>\n",
       "      <th>x1_31</th>\n",
       "      <th>x1_32</th>\n",
       "      <th>x1_33</th>\n",
       "      <th>x1_34</th>\n",
       "      <th>x1_35</th>\n",
       "      <th>x1_36</th>\n",
       "      <th>x1_37</th>\n",
       "      <th>x1_38</th>\n",
       "      <th>x1_39</th>\n",
       "      <th>x1_4</th>\n",
       "      <th>x1_40</th>\n",
       "      <th>x1_41</th>\n",
       "      <th>x1_42</th>\n",
       "      <th>x1_43</th>\n",
       "      <th>x1_44</th>\n",
       "      <th>x1_45</th>\n",
       "      <th>x1_46</th>\n",
       "      <th>x1_47</th>\n",
       "      <th>x1_48</th>\n",
       "      <th>x1_49</th>\n",
       "      <th>x1_5</th>\n",
       "      <th>x1_50</th>\n",
       "      <th>x1_51</th>\n",
       "      <th>x1_52</th>\n",
       "      <th>x1_6</th>\n",
       "      <th>x1_7</th>\n",
       "      <th>x1_8</th>\n",
       "      <th>x1_9</th>\n",
       "      <th>x2_BE</th>\n",
       "      <th>x2_BG</th>\n",
       "      <th>x2_CY</th>\n",
       "      <th>x2_CZ</th>\n",
       "      <th>x2_DE</th>\n",
       "      <th>x2_DK</th>\n",
       "      <th>x2_EE</th>\n",
       "      <th>x2_EL</th>\n",
       "      <th>x2_ES</th>\n",
       "      <th>x2_FI</th>\n",
       "      <th>x2_FR</th>\n",
       "      <th>x2_HR</th>\n",
       "      <th>x2_HU</th>\n",
       "      <th>x2_IE</th>\n",
       "      <th>x2_IS</th>\n",
       "      <th>x2_IT</th>\n",
       "      <th>x2_LI</th>\n",
       "      <th>x2_LT</th>\n",
       "      <th>x2_LU</th>\n",
       "      <th>x2_LV</th>\n",
       "      <th>x2_MT</th>\n",
       "      <th>x2_NL</th>\n",
       "      <th>x2_NO</th>\n",
       "      <th>x2_PL</th>\n",
       "      <th>x2_PT</th>\n",
       "      <th>x2_RO</th>\n",
       "      <th>x2_SE</th>\n",
       "      <th>x2_SI</th>\n",
       "      <th>x2_SK</th>\n",
       "    </tr>\n",
       "  </thead>\n",
       "  <tbody>\n",
       "    <tr>\n",
       "      <th>3497</th>\n",
       "      <td>25.383363</td>\n",
       "      <td>2768.027078</td>\n",
       "      <td>3903.45543</td>\n",
       "      <td>1.0</td>\n",
       "      <td>0.0</td>\n",
       "      <td>0.0</td>\n",
       "      <td>0.0</td>\n",
       "      <td>0.0</td>\n",
       "      <td>0.0</td>\n",
       "      <td>0.0</td>\n",
       "      <td>0.0</td>\n",
       "      <td>0.0</td>\n",
       "      <td>0.0</td>\n",
       "      <td>0.0</td>\n",
       "      <td>0.0</td>\n",
       "      <td>0.0</td>\n",
       "      <td>0.0</td>\n",
       "      <td>0.0</td>\n",
       "      <td>0.0</td>\n",
       "      <td>0.0</td>\n",
       "      <td>0.0</td>\n",
       "      <td>1.0</td>\n",
       "      <td>0.0</td>\n",
       "      <td>0.0</td>\n",
       "      <td>0.0</td>\n",
       "      <td>0.0</td>\n",
       "      <td>0.0</td>\n",
       "      <td>0.0</td>\n",
       "      <td>0.0</td>\n",
       "      <td>0.0</td>\n",
       "      <td>0.0</td>\n",
       "      <td>0.0</td>\n",
       "      <td>0.0</td>\n",
       "      <td>0.0</td>\n",
       "      <td>0.0</td>\n",
       "      <td>0.0</td>\n",
       "      <td>0.0</td>\n",
       "      <td>0.0</td>\n",
       "      <td>0.0</td>\n",
       "      <td>0.0</td>\n",
       "      <td>0.0</td>\n",
       "      <td>0.0</td>\n",
       "      <td>0.0</td>\n",
       "      <td>0.0</td>\n",
       "      <td>0.0</td>\n",
       "      <td>0.0</td>\n",
       "      <td>0.0</td>\n",
       "      <td>0.0</td>\n",
       "      <td>0.0</td>\n",
       "      <td>0.0</td>\n",
       "      <td>0.0</td>\n",
       "      <td>0.0</td>\n",
       "      <td>0.0</td>\n",
       "      <td>0.0</td>\n",
       "      <td>0.0</td>\n",
       "      <td>0.0</td>\n",
       "      <td>0.0</td>\n",
       "      <td>0.0</td>\n",
       "      <td>0.0</td>\n",
       "      <td>0.0</td>\n",
       "      <td>0.0</td>\n",
       "      <td>0.0</td>\n",
       "      <td>0.0</td>\n",
       "      <td>0.0</td>\n",
       "      <td>0.0</td>\n",
       "      <td>0.0</td>\n",
       "      <td>0.0</td>\n",
       "      <td>0.0</td>\n",
       "      <td>0.0</td>\n",
       "      <td>0.0</td>\n",
       "      <td>0.0</td>\n",
       "      <td>0.0</td>\n",
       "      <td>0.0</td>\n",
       "      <td>0.0</td>\n",
       "      <td>0.0</td>\n",
       "      <td>0.0</td>\n",
       "      <td>0.0</td>\n",
       "      <td>0.0</td>\n",
       "      <td>0.0</td>\n",
       "      <td>0.0</td>\n",
       "      <td>0.0</td>\n",
       "      <td>0.0</td>\n",
       "      <td>0.0</td>\n",
       "      <td>0.0</td>\n",
       "      <td>1.0</td>\n",
       "      <td>0.0</td>\n",
       "    </tr>\n",
       "    <tr>\n",
       "      <th>864</th>\n",
       "      <td>12.791804</td>\n",
       "      <td>0.000000</td>\n",
       "      <td>0.00000</td>\n",
       "      <td>0.0</td>\n",
       "      <td>0.0</td>\n",
       "      <td>0.0</td>\n",
       "      <td>0.0</td>\n",
       "      <td>1.0</td>\n",
       "      <td>0.0</td>\n",
       "      <td>0.0</td>\n",
       "      <td>0.0</td>\n",
       "      <td>0.0</td>\n",
       "      <td>0.0</td>\n",
       "      <td>0.0</td>\n",
       "      <td>0.0</td>\n",
       "      <td>0.0</td>\n",
       "      <td>0.0</td>\n",
       "      <td>0.0</td>\n",
       "      <td>0.0</td>\n",
       "      <td>0.0</td>\n",
       "      <td>0.0</td>\n",
       "      <td>0.0</td>\n",
       "      <td>0.0</td>\n",
       "      <td>0.0</td>\n",
       "      <td>0.0</td>\n",
       "      <td>0.0</td>\n",
       "      <td>0.0</td>\n",
       "      <td>0.0</td>\n",
       "      <td>0.0</td>\n",
       "      <td>0.0</td>\n",
       "      <td>0.0</td>\n",
       "      <td>0.0</td>\n",
       "      <td>0.0</td>\n",
       "      <td>0.0</td>\n",
       "      <td>0.0</td>\n",
       "      <td>0.0</td>\n",
       "      <td>0.0</td>\n",
       "      <td>0.0</td>\n",
       "      <td>0.0</td>\n",
       "      <td>0.0</td>\n",
       "      <td>0.0</td>\n",
       "      <td>0.0</td>\n",
       "      <td>0.0</td>\n",
       "      <td>0.0</td>\n",
       "      <td>0.0</td>\n",
       "      <td>0.0</td>\n",
       "      <td>0.0</td>\n",
       "      <td>0.0</td>\n",
       "      <td>0.0</td>\n",
       "      <td>0.0</td>\n",
       "      <td>0.0</td>\n",
       "      <td>0.0</td>\n",
       "      <td>0.0</td>\n",
       "      <td>0.0</td>\n",
       "      <td>0.0</td>\n",
       "      <td>0.0</td>\n",
       "      <td>0.0</td>\n",
       "      <td>0.0</td>\n",
       "      <td>0.0</td>\n",
       "      <td>0.0</td>\n",
       "      <td>0.0</td>\n",
       "      <td>0.0</td>\n",
       "      <td>0.0</td>\n",
       "      <td>1.0</td>\n",
       "      <td>0.0</td>\n",
       "      <td>0.0</td>\n",
       "      <td>0.0</td>\n",
       "      <td>0.0</td>\n",
       "      <td>0.0</td>\n",
       "      <td>0.0</td>\n",
       "      <td>0.0</td>\n",
       "      <td>0.0</td>\n",
       "      <td>0.0</td>\n",
       "      <td>0.0</td>\n",
       "      <td>0.0</td>\n",
       "      <td>0.0</td>\n",
       "      <td>0.0</td>\n",
       "      <td>0.0</td>\n",
       "      <td>0.0</td>\n",
       "      <td>0.0</td>\n",
       "      <td>0.0</td>\n",
       "      <td>0.0</td>\n",
       "      <td>0.0</td>\n",
       "      <td>0.0</td>\n",
       "      <td>0.0</td>\n",
       "      <td>0.0</td>\n",
       "    </tr>\n",
       "    <tr>\n",
       "      <th>2836</th>\n",
       "      <td>2.049341</td>\n",
       "      <td>0.000000</td>\n",
       "      <td>0.00000</td>\n",
       "      <td>0.0</td>\n",
       "      <td>0.0</td>\n",
       "      <td>0.0</td>\n",
       "      <td>0.0</td>\n",
       "      <td>0.0</td>\n",
       "      <td>0.0</td>\n",
       "      <td>0.0</td>\n",
       "      <td>0.0</td>\n",
       "      <td>0.0</td>\n",
       "      <td>0.0</td>\n",
       "      <td>0.0</td>\n",
       "      <td>0.0</td>\n",
       "      <td>0.0</td>\n",
       "      <td>0.0</td>\n",
       "      <td>0.0</td>\n",
       "      <td>0.0</td>\n",
       "      <td>0.0</td>\n",
       "      <td>0.0</td>\n",
       "      <td>1.0</td>\n",
       "      <td>0.0</td>\n",
       "      <td>0.0</td>\n",
       "      <td>0.0</td>\n",
       "      <td>0.0</td>\n",
       "      <td>0.0</td>\n",
       "      <td>0.0</td>\n",
       "      <td>0.0</td>\n",
       "      <td>0.0</td>\n",
       "      <td>0.0</td>\n",
       "      <td>0.0</td>\n",
       "      <td>0.0</td>\n",
       "      <td>0.0</td>\n",
       "      <td>0.0</td>\n",
       "      <td>0.0</td>\n",
       "      <td>0.0</td>\n",
       "      <td>0.0</td>\n",
       "      <td>0.0</td>\n",
       "      <td>0.0</td>\n",
       "      <td>0.0</td>\n",
       "      <td>0.0</td>\n",
       "      <td>0.0</td>\n",
       "      <td>0.0</td>\n",
       "      <td>0.0</td>\n",
       "      <td>0.0</td>\n",
       "      <td>0.0</td>\n",
       "      <td>0.0</td>\n",
       "      <td>0.0</td>\n",
       "      <td>0.0</td>\n",
       "      <td>0.0</td>\n",
       "      <td>0.0</td>\n",
       "      <td>0.0</td>\n",
       "      <td>0.0</td>\n",
       "      <td>0.0</td>\n",
       "      <td>0.0</td>\n",
       "      <td>0.0</td>\n",
       "      <td>0.0</td>\n",
       "      <td>0.0</td>\n",
       "      <td>0.0</td>\n",
       "      <td>0.0</td>\n",
       "      <td>0.0</td>\n",
       "      <td>0.0</td>\n",
       "      <td>0.0</td>\n",
       "      <td>0.0</td>\n",
       "      <td>0.0</td>\n",
       "      <td>0.0</td>\n",
       "      <td>0.0</td>\n",
       "      <td>0.0</td>\n",
       "      <td>0.0</td>\n",
       "      <td>0.0</td>\n",
       "      <td>0.0</td>\n",
       "      <td>0.0</td>\n",
       "      <td>0.0</td>\n",
       "      <td>0.0</td>\n",
       "      <td>0.0</td>\n",
       "      <td>0.0</td>\n",
       "      <td>0.0</td>\n",
       "      <td>0.0</td>\n",
       "      <td>1.0</td>\n",
       "      <td>0.0</td>\n",
       "      <td>0.0</td>\n",
       "      <td>0.0</td>\n",
       "      <td>0.0</td>\n",
       "      <td>0.0</td>\n",
       "      <td>0.0</td>\n",
       "    </tr>\n",
       "    <tr>\n",
       "      <th>1625</th>\n",
       "      <td>0.716514</td>\n",
       "      <td>0.000000</td>\n",
       "      <td>0.00000</td>\n",
       "      <td>0.0</td>\n",
       "      <td>0.0</td>\n",
       "      <td>0.0</td>\n",
       "      <td>0.0</td>\n",
       "      <td>0.0</td>\n",
       "      <td>0.0</td>\n",
       "      <td>0.0</td>\n",
       "      <td>0.0</td>\n",
       "      <td>0.0</td>\n",
       "      <td>0.0</td>\n",
       "      <td>0.0</td>\n",
       "      <td>0.0</td>\n",
       "      <td>0.0</td>\n",
       "      <td>0.0</td>\n",
       "      <td>0.0</td>\n",
       "      <td>0.0</td>\n",
       "      <td>0.0</td>\n",
       "      <td>0.0</td>\n",
       "      <td>0.0</td>\n",
       "      <td>0.0</td>\n",
       "      <td>0.0</td>\n",
       "      <td>0.0</td>\n",
       "      <td>0.0</td>\n",
       "      <td>0.0</td>\n",
       "      <td>0.0</td>\n",
       "      <td>1.0</td>\n",
       "      <td>0.0</td>\n",
       "      <td>0.0</td>\n",
       "      <td>0.0</td>\n",
       "      <td>0.0</td>\n",
       "      <td>0.0</td>\n",
       "      <td>0.0</td>\n",
       "      <td>0.0</td>\n",
       "      <td>0.0</td>\n",
       "      <td>0.0</td>\n",
       "      <td>0.0</td>\n",
       "      <td>0.0</td>\n",
       "      <td>0.0</td>\n",
       "      <td>0.0</td>\n",
       "      <td>0.0</td>\n",
       "      <td>0.0</td>\n",
       "      <td>0.0</td>\n",
       "      <td>0.0</td>\n",
       "      <td>0.0</td>\n",
       "      <td>0.0</td>\n",
       "      <td>0.0</td>\n",
       "      <td>0.0</td>\n",
       "      <td>0.0</td>\n",
       "      <td>0.0</td>\n",
       "      <td>0.0</td>\n",
       "      <td>0.0</td>\n",
       "      <td>0.0</td>\n",
       "      <td>0.0</td>\n",
       "      <td>0.0</td>\n",
       "      <td>0.0</td>\n",
       "      <td>0.0</td>\n",
       "      <td>0.0</td>\n",
       "      <td>0.0</td>\n",
       "      <td>0.0</td>\n",
       "      <td>0.0</td>\n",
       "      <td>0.0</td>\n",
       "      <td>0.0</td>\n",
       "      <td>0.0</td>\n",
       "      <td>0.0</td>\n",
       "      <td>0.0</td>\n",
       "      <td>0.0</td>\n",
       "      <td>1.0</td>\n",
       "      <td>0.0</td>\n",
       "      <td>0.0</td>\n",
       "      <td>0.0</td>\n",
       "      <td>0.0</td>\n",
       "      <td>0.0</td>\n",
       "      <td>0.0</td>\n",
       "      <td>0.0</td>\n",
       "      <td>0.0</td>\n",
       "      <td>0.0</td>\n",
       "      <td>0.0</td>\n",
       "      <td>0.0</td>\n",
       "      <td>0.0</td>\n",
       "      <td>0.0</td>\n",
       "      <td>0.0</td>\n",
       "      <td>0.0</td>\n",
       "      <td>0.0</td>\n",
       "    </tr>\n",
       "    <tr>\n",
       "      <th>2710</th>\n",
       "      <td>6.945248</td>\n",
       "      <td>0.000000</td>\n",
       "      <td>0.00000</td>\n",
       "      <td>0.0</td>\n",
       "      <td>0.0</td>\n",
       "      <td>0.0</td>\n",
       "      <td>0.0</td>\n",
       "      <td>0.0</td>\n",
       "      <td>0.0</td>\n",
       "      <td>0.0</td>\n",
       "      <td>0.0</td>\n",
       "      <td>0.0</td>\n",
       "      <td>0.0</td>\n",
       "      <td>0.0</td>\n",
       "      <td>0.0</td>\n",
       "      <td>0.0</td>\n",
       "      <td>0.0</td>\n",
       "      <td>0.0</td>\n",
       "      <td>1.0</td>\n",
       "      <td>0.0</td>\n",
       "      <td>0.0</td>\n",
       "      <td>0.0</td>\n",
       "      <td>0.0</td>\n",
       "      <td>0.0</td>\n",
       "      <td>0.0</td>\n",
       "      <td>0.0</td>\n",
       "      <td>0.0</td>\n",
       "      <td>0.0</td>\n",
       "      <td>0.0</td>\n",
       "      <td>0.0</td>\n",
       "      <td>0.0</td>\n",
       "      <td>0.0</td>\n",
       "      <td>0.0</td>\n",
       "      <td>0.0</td>\n",
       "      <td>0.0</td>\n",
       "      <td>0.0</td>\n",
       "      <td>0.0</td>\n",
       "      <td>0.0</td>\n",
       "      <td>0.0</td>\n",
       "      <td>0.0</td>\n",
       "      <td>0.0</td>\n",
       "      <td>0.0</td>\n",
       "      <td>0.0</td>\n",
       "      <td>0.0</td>\n",
       "      <td>0.0</td>\n",
       "      <td>0.0</td>\n",
       "      <td>0.0</td>\n",
       "      <td>0.0</td>\n",
       "      <td>0.0</td>\n",
       "      <td>0.0</td>\n",
       "      <td>0.0</td>\n",
       "      <td>0.0</td>\n",
       "      <td>0.0</td>\n",
       "      <td>0.0</td>\n",
       "      <td>0.0</td>\n",
       "      <td>0.0</td>\n",
       "      <td>0.0</td>\n",
       "      <td>0.0</td>\n",
       "      <td>0.0</td>\n",
       "      <td>0.0</td>\n",
       "      <td>0.0</td>\n",
       "      <td>0.0</td>\n",
       "      <td>0.0</td>\n",
       "      <td>0.0</td>\n",
       "      <td>0.0</td>\n",
       "      <td>0.0</td>\n",
       "      <td>0.0</td>\n",
       "      <td>0.0</td>\n",
       "      <td>0.0</td>\n",
       "      <td>0.0</td>\n",
       "      <td>0.0</td>\n",
       "      <td>0.0</td>\n",
       "      <td>0.0</td>\n",
       "      <td>0.0</td>\n",
       "      <td>0.0</td>\n",
       "      <td>0.0</td>\n",
       "      <td>0.0</td>\n",
       "      <td>0.0</td>\n",
       "      <td>1.0</td>\n",
       "      <td>0.0</td>\n",
       "      <td>0.0</td>\n",
       "      <td>0.0</td>\n",
       "      <td>0.0</td>\n",
       "      <td>0.0</td>\n",
       "      <td>0.0</td>\n",
       "      <td>0.0</td>\n",
       "    </tr>\n",
       "  </tbody>\n",
       "</table>\n",
       "</div>"
      ],
      "text/plain": [
       "      cases_per_100khab  first_dose_100k  second_dose_100k  x0_2021  x0_2022  \\\n",
       "3497          25.383363      2768.027078        3903.45543      1.0      0.0   \n",
       "864           12.791804         0.000000           0.00000      0.0      0.0   \n",
       "2836           2.049341         0.000000           0.00000      0.0      0.0   \n",
       "1625           0.716514         0.000000           0.00000      0.0      0.0   \n",
       "2710           6.945248         0.000000           0.00000      0.0      0.0   \n",
       "\n",
       "      x1_1  x1_10  x1_11  x1_12  x1_13  x1_14  x1_15  x1_16  x1_17  x1_18  \\\n",
       "3497   0.0    0.0    0.0    0.0    0.0    0.0    0.0    0.0    0.0    0.0   \n",
       "864    0.0    0.0    1.0    0.0    0.0    0.0    0.0    0.0    0.0    0.0   \n",
       "2836   0.0    0.0    0.0    0.0    0.0    0.0    0.0    0.0    0.0    0.0   \n",
       "1625   0.0    0.0    0.0    0.0    0.0    0.0    0.0    0.0    0.0    0.0   \n",
       "2710   0.0    0.0    0.0    0.0    0.0    0.0    0.0    0.0    0.0    0.0   \n",
       "\n",
       "      x1_19  x1_2  x1_20  x1_21  x1_22  x1_23  x1_24  x1_25  x1_26  x1_27  \\\n",
       "3497    0.0   0.0    0.0    0.0    0.0    0.0    1.0    0.0    0.0    0.0   \n",
       "864     0.0   0.0    0.0    0.0    0.0    0.0    0.0    0.0    0.0    0.0   \n",
       "2836    0.0   0.0    0.0    0.0    0.0    0.0    1.0    0.0    0.0    0.0   \n",
       "1625    0.0   0.0    0.0    0.0    0.0    0.0    0.0    0.0    0.0    0.0   \n",
       "2710    0.0   0.0    0.0    1.0    0.0    0.0    0.0    0.0    0.0    0.0   \n",
       "\n",
       "      x1_28  x1_29  x1_3  x1_30  x1_31  x1_32  x1_33  x1_34  x1_35  x1_36  \\\n",
       "3497    0.0    0.0   0.0    0.0    0.0    0.0    0.0    0.0    0.0    0.0   \n",
       "864     0.0    0.0   0.0    0.0    0.0    0.0    0.0    0.0    0.0    0.0   \n",
       "2836    0.0    0.0   0.0    0.0    0.0    0.0    0.0    0.0    0.0    0.0   \n",
       "1625    0.0    0.0   0.0    1.0    0.0    0.0    0.0    0.0    0.0    0.0   \n",
       "2710    0.0    0.0   0.0    0.0    0.0    0.0    0.0    0.0    0.0    0.0   \n",
       "\n",
       "      x1_37  x1_38  x1_39  x1_4  x1_40  x1_41  x1_42  x1_43  x1_44  x1_45  \\\n",
       "3497    0.0    0.0    0.0   0.0    0.0    0.0    0.0    0.0    0.0    0.0   \n",
       "864     0.0    0.0    0.0   0.0    0.0    0.0    0.0    0.0    0.0    0.0   \n",
       "2836    0.0    0.0    0.0   0.0    0.0    0.0    0.0    0.0    0.0    0.0   \n",
       "1625    0.0    0.0    0.0   0.0    0.0    0.0    0.0    0.0    0.0    0.0   \n",
       "2710    0.0    0.0    0.0   0.0    0.0    0.0    0.0    0.0    0.0    0.0   \n",
       "\n",
       "      x1_46  x1_47  x1_48  x1_49  x1_5  x1_50  x1_51  x1_52  x1_6  x1_7  x1_8  \\\n",
       "3497    0.0    0.0    0.0    0.0   0.0    0.0    0.0    0.0   0.0   0.0   0.0   \n",
       "864     0.0    0.0    0.0    0.0   0.0    0.0    0.0    0.0   0.0   0.0   0.0   \n",
       "2836    0.0    0.0    0.0    0.0   0.0    0.0    0.0    0.0   0.0   0.0   0.0   \n",
       "1625    0.0    0.0    0.0    0.0   0.0    0.0    0.0    0.0   0.0   0.0   0.0   \n",
       "2710    0.0    0.0    0.0    0.0   0.0    0.0    0.0    0.0   0.0   0.0   0.0   \n",
       "\n",
       "      x1_9  x2_BE  x2_BG  x2_CY  x2_CZ  x2_DE  x2_DK  x2_EE  x2_EL  x2_ES  \\\n",
       "3497   0.0    0.0    0.0    0.0    0.0    0.0    0.0    0.0    0.0    0.0   \n",
       "864    0.0    0.0    0.0    0.0    0.0    0.0    0.0    1.0    0.0    0.0   \n",
       "2836   0.0    0.0    0.0    0.0    0.0    0.0    0.0    0.0    0.0    0.0   \n",
       "1625   0.0    0.0    0.0    0.0    0.0    0.0    0.0    0.0    0.0    0.0   \n",
       "2710   0.0    0.0    0.0    0.0    0.0    0.0    0.0    0.0    0.0    0.0   \n",
       "\n",
       "      x2_FI  x2_FR  x2_HR  x2_HU  x2_IE  x2_IS  x2_IT  x2_LI  x2_LT  x2_LU  \\\n",
       "3497    0.0    0.0    0.0    0.0    0.0    0.0    0.0    0.0    0.0    0.0   \n",
       "864     0.0    0.0    0.0    0.0    0.0    0.0    0.0    0.0    0.0    0.0   \n",
       "2836    0.0    0.0    0.0    0.0    0.0    0.0    0.0    0.0    0.0    0.0   \n",
       "1625    0.0    0.0    0.0    1.0    0.0    0.0    0.0    0.0    0.0    0.0   \n",
       "2710    0.0    0.0    0.0    0.0    0.0    0.0    0.0    0.0    0.0    0.0   \n",
       "\n",
       "      x2_LV  x2_MT  x2_NL  x2_NO  x2_PL  x2_PT  x2_RO  x2_SE  x2_SI  x2_SK  \n",
       "3497    0.0    0.0    0.0    0.0    0.0    0.0    0.0    0.0    1.0    0.0  \n",
       "864     0.0    0.0    0.0    0.0    0.0    0.0    0.0    0.0    0.0    0.0  \n",
       "2836    0.0    0.0    0.0    1.0    0.0    0.0    0.0    0.0    0.0    0.0  \n",
       "1625    0.0    0.0    0.0    0.0    0.0    0.0    0.0    0.0    0.0    0.0  \n",
       "2710    0.0    0.0    1.0    0.0    0.0    0.0    0.0    0.0    0.0    0.0  "
      ]
     },
     "execution_count": 16,
     "metadata": {},
     "output_type": "execute_result"
    }
   ],
   "source": [
    "# Concat DataFrames\n",
    "\n",
    "column_names = list(X_num.columns) # get list of numerical column names\n",
    "column_names.extend(list(encoder.get_feature_names())) # add list of dummified categorical column names\n",
    "\n",
    "X_numcat = np.concatenate([X_num, X_cat_encoded], axis=1)\n",
    "X_ready = pd.DataFrame(data=X_numcat, index=X.index, columns=column_names)\n",
    "X_ready.sample(5)"
   ]
  },
  {
   "cell_type": "code",
   "execution_count": 17,
   "id": "758f5e18",
   "metadata": {},
   "outputs": [],
   "source": [
    "# Train-test split\n",
    "X_train, X_test, y_train, y_test = train_test_split(X_ready, y, test_size=0.3, random_state=42)"
   ]
  },
  {
   "cell_type": "markdown",
   "id": "e941ddad",
   "metadata": {},
   "source": [
    "### Model fitting"
   ]
  },
  {
   "cell_type": "code",
   "execution_count": 18,
   "id": "22ec4e78",
   "metadata": {},
   "outputs": [],
   "source": [
    "scaler=StandardScaler()\n",
    "X_train = scaler.fit_transform(X_train)\n",
    "X_test = scaler.transform (X_test)\n",
    "scaler_y = StandardScaler().fit(y_train.to_numpy().reshape(-1, 1))"
   ]
  },
  {
   "cell_type": "code",
   "execution_count": 19,
   "id": "f3cbdd1e",
   "metadata": {},
   "outputs": [
    {
     "data": {
      "text/plain": [
       "LinearRegression()"
      ]
     },
     "execution_count": 19,
     "metadata": {},
     "output_type": "execute_result"
    }
   ],
   "source": [
    "model = LinearRegression()\n",
    "model.fit(X_train, y_train)"
   ]
  },
  {
   "cell_type": "markdown",
   "id": "08d6bb20",
   "metadata": {},
   "source": [
    "## Evaluation"
   ]
  },
  {
   "cell_type": "code",
   "execution_count": 20,
   "id": "ca17f6cb",
   "metadata": {},
   "outputs": [
    {
     "name": "stdout",
     "output_type": "stream",
     "text": [
      "R2 = 0.32042354521236127 MAE = 4.879898511991797 MSE = 32.90922057903131 RMSE = 5.736655870716955\n"
     ]
    }
   ],
   "source": [
    "predictions_norm = model.predict(X_test)\n",
    "R2 = r2_score(y_test, predictions_norm)\n",
    "\n",
    "predictions = scaler_y.inverse_transform(predictions_norm.reshape(-1, 1))\n",
    "\n",
    "MAE = mean_absolute_error(y_test, predictions)\n",
    "MSE = mean_squared_error(y_test, predictions, squared=True)\n",
    "RMSE = mean_squared_error(y_test, predictions, squared=False)\n",
    "\n",
    "print('R2 =',R2, 'MAE =', MAE, 'MSE =', MSE, 'RMSE =', RMSE)"
   ]
  },
  {
   "cell_type": "code",
   "execution_count": 21,
   "id": "c32cab97",
   "metadata": {},
   "outputs": [
    {
     "data": {
      "text/html": [
       "<div>\n",
       "<style scoped>\n",
       "    .dataframe tbody tr th:only-of-type {\n",
       "        vertical-align: middle;\n",
       "    }\n",
       "\n",
       "    .dataframe tbody tr th {\n",
       "        vertical-align: top;\n",
       "    }\n",
       "\n",
       "    .dataframe thead th {\n",
       "        text-align: right;\n",
       "    }\n",
       "</style>\n",
       "<table border=\"1\" class=\"dataframe\">\n",
       "  <thead>\n",
       "    <tr style=\"text-align: right;\">\n",
       "      <th></th>\n",
       "      <th>true</th>\n",
       "      <th>pred</th>\n",
       "      <th>resid</th>\n",
       "    </tr>\n",
       "  </thead>\n",
       "  <tbody>\n",
       "    <tr>\n",
       "      <th>2178</th>\n",
       "      <td>0.000000</td>\n",
       "      <td>16.068905</td>\n",
       "      <td>16.068905</td>\n",
       "    </tr>\n",
       "    <tr>\n",
       "      <th>217</th>\n",
       "      <td>2.612294</td>\n",
       "      <td>18.348449</td>\n",
       "      <td>15.736155</td>\n",
       "    </tr>\n",
       "    <tr>\n",
       "      <th>254</th>\n",
       "      <td>0.187010</td>\n",
       "      <td>15.509232</td>\n",
       "      <td>15.322221</td>\n",
       "    </tr>\n",
       "    <tr>\n",
       "      <th>220</th>\n",
       "      <td>2.239109</td>\n",
       "      <td>17.312780</td>\n",
       "      <td>15.073671</td>\n",
       "    </tr>\n",
       "    <tr>\n",
       "      <th>226</th>\n",
       "      <td>1.570848</td>\n",
       "      <td>16.460094</td>\n",
       "      <td>14.889246</td>\n",
       "    </tr>\n",
       "    <tr>\n",
       "      <th>...</th>\n",
       "      <td>...</td>\n",
       "      <td>...</td>\n",
       "      <td>...</td>\n",
       "    </tr>\n",
       "    <tr>\n",
       "      <th>3328</th>\n",
       "      <td>0.290484</td>\n",
       "      <td>0.339434</td>\n",
       "      <td>0.048950</td>\n",
       "    </tr>\n",
       "    <tr>\n",
       "      <th>1741</th>\n",
       "      <td>0.181289</td>\n",
       "      <td>0.227011</td>\n",
       "      <td>0.045722</td>\n",
       "    </tr>\n",
       "    <tr>\n",
       "      <th>1313</th>\n",
       "      <td>0.162887</td>\n",
       "      <td>0.118708</td>\n",
       "      <td>0.044180</td>\n",
       "    </tr>\n",
       "    <tr>\n",
       "      <th>2933</th>\n",
       "      <td>0.000000</td>\n",
       "      <td>0.025245</td>\n",
       "      <td>0.025245</td>\n",
       "    </tr>\n",
       "    <tr>\n",
       "      <th>1738</th>\n",
       "      <td>0.866160</td>\n",
       "      <td>0.841554</td>\n",
       "      <td>0.024606</td>\n",
       "    </tr>\n",
       "  </tbody>\n",
       "</table>\n",
       "<p>1101 rows × 3 columns</p>\n",
       "</div>"
      ],
      "text/plain": [
       "          true       pred      resid\n",
       "2178  0.000000  16.068905  16.068905\n",
       "217   2.612294  18.348449  15.736155\n",
       "254   0.187010  15.509232  15.322221\n",
       "220   2.239109  17.312780  15.073671\n",
       "226   1.570848  16.460094  14.889246\n",
       "...        ...        ...        ...\n",
       "3328  0.290484   0.339434   0.048950\n",
       "1741  0.181289   0.227011   0.045722\n",
       "1313  0.162887   0.118708   0.044180\n",
       "2933  0.000000   0.025245   0.025245\n",
       "1738  0.866160   0.841554   0.024606\n",
       "\n",
       "[1101 rows x 3 columns]"
      ]
     },
     "metadata": {},
     "output_type": "display_data"
    },
    {
     "data": {
      "image/png": "[encoded data removed]",
      "text/plain": [
       "<Figure size 432x288 with 1 Axes>"
      ]
     },
     "metadata": {
      "needs_background": "light"
     },
     "output_type": "display_data"
    }
   ],
   "source": [
    "import math\n",
    "\n",
    "results = pd.DataFrame()\n",
    "results['true'] = y_test\n",
    "results['pred'] = predictions\n",
    "results['resid'] = results.apply(lambda x: abs(x['true'] - x['pred']), axis=1)\n",
    "results=results.sort_values('resid', ascending=False)\n",
    "\n",
    "#results.to_csv('../Streamlit/LR_results.csv')\n",
    "\n",
    "display(results)\n",
    "sns.boxplot(x=results['resid'])\n",
    "plt.show()"
   ]
  },
  {
   "cell_type": "code",
   "execution_count": 22,
   "id": "ca038a87",
   "metadata": {},
   "outputs": [
    {
     "data": {
      "text/plain": [
       "<AxesSubplot:xlabel='true', ylabel='pred'>"
      ]
     },
     "execution_count": 22,
     "metadata": {},
     "output_type": "execute_result"
    },
    {
     "data": {
      "image/png": "[encoded data removed]",
      "text/plain": [
       "<Figure size 432x288 with 1 Axes>"
      ]
     },
     "metadata": {
      "needs_background": "light"
     },
     "output_type": "display_data"
    }
   ],
   "source": [
    "sns.regplot(results['true'], results['pred'])"
   ]
  },
  {
   "cell_type": "markdown",
   "id": "0e964a5d",
   "metadata": {},
   "source": [
    "### Check Multicollinearity with VIF"
   ]
  },
  {
   "cell_type": "code",
   "execution_count": 24,
   "id": "d2d4868f",
   "metadata": {},
   "outputs": [],
   "source": [
    "#from statsmodels.stats.outliers_influence import variance_inflation_factor\n",
    "\n",
    "#df_ready=pd.concat([y,X_ready],axis=1)\n",
    "#df_ready\n",
    "\n",
    "#Independent variables set\n",
    "#ind_var=X_ready\n",
    "\n",
    "#VIF dataframe\n",
    "#vif_data = pd.DataFrame()\n",
    "#vif_data['feature'] = ind_var.columns\n",
    "\n",
    "#calculating VIF for each feature\n",
    "#vif_data['VIF'] = [variance_inflation_factor(ind_var.values, i) for i in range(len(ind_var.columns))]\n",
    "\n",
    "#vif_data['VIF'].replace([np.inf, -np.inf], np.nan, inplace=True)\n",
    "\n",
    "#vif_data_filtered=vif_data[vif_data['VIF']>5]\n",
    "#display(vif_data_filtered)\n",
    "\n",
    "#sns.barplot(x=vif_data_filtered['feature'], y=vif_data_filtered['VIF']).set_yscale(\"log\")\n",
    "#plt.show()"
   ]
  },
  {
   "cell_type": "markdown",
   "id": "6f302499",
   "metadata": {},
   "source": [
    "This VIF analysis does not help much improving the model. All three numerical features have a high multicollinearity, so they cannot be used for a linear regression model."
   ]
  },
  {
   "cell_type": "code",
   "execution_count": 36,
   "id": "1f080b80",
   "metadata": {},
   "outputs": [],
   "source": [
    "X_ready.drop('second_dose_100k', axis=1, inplace=True)"
   ]
  },
  {
   "cell_type": "code",
   "execution_count": 37,
   "id": "195ca014",
   "metadata": {},
   "outputs": [],
   "source": [
    "# Train-test split\n",
    "X_train, X_test, y_train, y_test = train_test_split(X_ready, y, test_size=0.3, random_state=42)"
   ]
  },
  {
   "cell_type": "code",
   "execution_count": 38,
   "id": "da1849c4",
   "metadata": {},
   "outputs": [],
   "source": [
    "scaler=StandardScaler()\n",
    "X_train = scaler.fit_transform(X_train)\n",
    "X_test = scaler.transform (X_test)\n",
    "scaler_y = StandardScaler().fit(y_train.to_numpy().reshape(-1, 1))"
   ]
  },
  {
   "cell_type": "code",
   "execution_count": 39,
   "id": "58b02b54",
   "metadata": {},
   "outputs": [
    {
     "data": {
      "text/plain": [
       "LinearRegression()"
      ]
     },
     "execution_count": 39,
     "metadata": {},
     "output_type": "execute_result"
    }
   ],
   "source": [
    "model = LinearRegression()\n",
    "model.fit(X_train, y_train)"
   ]
  },
  {
   "cell_type": "code",
   "execution_count": 40,
   "id": "b1b4e83c",
   "metadata": {},
   "outputs": [
    {
     "name": "stdout",
     "output_type": "stream",
     "text": [
      "R2 = 0.32111350563936636 MAE = 4.877154924042398 MSE = 32.861916074968235 RMSE = 5.732531384560248\n"
     ]
    }
   ],
   "source": [
    "predictions_norm = model.predict(X_test)\n",
    "R2 = r2_score(y_test, predictions_norm)\n",
    "\n",
    "predictions = scaler_y.inverse_transform(predictions_norm.reshape(-1, 1))\n",
    "\n",
    "MAE = mean_absolute_error(y_test, predictions)\n",
    "MSE = mean_squared_error(y_test, predictions, squared=True)\n",
    "RMSE = mean_squared_error(y_test, predictions, squared=False)\n",
    "\n",
    "print('R2 =',R2, 'MAE =', MAE, 'MSE =', MSE, 'RMSE =', RMSE)"
   ]
  },
  {
   "cell_type": "code",
   "execution_count": 42,
   "id": "b252dcf2",
   "metadata": {},
   "outputs": [],
   "source": [
    "#Scaled metrics for comparison\n",
    "\n",
    "y_test_scaled = scaler_y.transform (y_test.to_numpy().reshape(-1, 1))\n",
    "\n",
    "MAE_s = mean_absolute_error(y_test_scaled, predictions_norm)\n",
    "MSE_s = mean_squared_error(y_test_scaled, predictions_norm, squared=True)\n",
    "RMSE_s = mean_squared_error(y_test_scaled, predictions_norm, squared=False)"
   ]
  },
  {
   "cell_type": "code",
   "execution_count": 46,
   "id": "cf9f0b92",
   "metadata": {},
   "outputs": [
    {
     "data": {
      "text/html": [
       "<div>\n",
       "<style scoped>\n",
       "    .dataframe tbody tr th:only-of-type {\n",
       "        vertical-align: middle;\n",
       "    }\n",
       "\n",
       "    .dataframe tbody tr th {\n",
       "        vertical-align: top;\n",
       "    }\n",
       "\n",
       "    .dataframe thead th {\n",
       "        text-align: right;\n",
       "    }\n",
       "</style>\n",
       "<table border=\"1\" class=\"dataframe\">\n",
       "  <thead>\n",
       "    <tr style=\"text-align: right;\">\n",
       "      <th></th>\n",
       "      <th>model</th>\n",
       "      <th>score</th>\n",
       "      <th>mean_absolute_error</th>\n",
       "      <th>mean_squared_error</th>\n",
       "      <th>RMSE</th>\n",
       "    </tr>\n",
       "  </thead>\n",
       "  <tbody>\n",
       "    <tr>\n",
       "      <th>0</th>\n",
       "      <td>LR</td>\n",
       "      <td>0.321114</td>\n",
       "      <td>4.877155</td>\n",
       "      <td>32.861916</td>\n",
       "      <td>5.732531</td>\n",
       "    </tr>\n",
       "  </tbody>\n",
       "</table>\n",
       "</div>"
      ],
      "text/plain": [
       "  model     score  mean_absolute_error  mean_squared_error      RMSE\n",
       "0    LR  0.321114             4.877155           32.861916  5.732531"
      ]
     },
     "metadata": {},
     "output_type": "display_data"
    }
   ],
   "source": [
    "metrics={'model':['LR'],'score':[R2],'mean_absolute_error':[MAE],'mean_squared_error':[MSE], 'RMSE':[RMSE]}\n",
    "#metrics_df=pd.DataFrame(metrics)\n",
    "metrics_df=pd.DataFrame(metrics)\n",
    "display(metrics_df)\n",
    "metrics_df.to_csv('../Streamlit/LR_metrics.csv')"
   ]
  },
  {
   "cell_type": "code",
   "execution_count": 44,
   "id": "843e0bc2",
   "metadata": {},
   "outputs": [
    {
     "data": {
      "text/html": [
       "<div>\n",
       "<style scoped>\n",
       "    .dataframe tbody tr th:only-of-type {\n",
       "        vertical-align: middle;\n",
       "    }\n",
       "\n",
       "    .dataframe tbody tr th {\n",
       "        vertical-align: top;\n",
       "    }\n",
       "\n",
       "    .dataframe thead th {\n",
       "        text-align: right;\n",
       "    }\n",
       "</style>\n",
       "<table border=\"1\" class=\"dataframe\">\n",
       "  <thead>\n",
       "    <tr style=\"text-align: right;\">\n",
       "      <th></th>\n",
       "      <th>true</th>\n",
       "      <th>pred</th>\n",
       "      <th>resid</th>\n",
       "    </tr>\n",
       "  </thead>\n",
       "  <tbody>\n",
       "    <tr>\n",
       "      <th>2178</th>\n",
       "      <td>0.000000</td>\n",
       "      <td>16.039840</td>\n",
       "      <td>16.039840</td>\n",
       "    </tr>\n",
       "    <tr>\n",
       "      <th>217</th>\n",
       "      <td>2.612294</td>\n",
       "      <td>18.290943</td>\n",
       "      <td>15.678649</td>\n",
       "    </tr>\n",
       "    <tr>\n",
       "      <th>254</th>\n",
       "      <td>0.187010</td>\n",
       "      <td>15.587821</td>\n",
       "      <td>15.400810</td>\n",
       "    </tr>\n",
       "    <tr>\n",
       "      <th>220</th>\n",
       "      <td>2.239109</td>\n",
       "      <td>17.254810</td>\n",
       "      <td>15.015700</td>\n",
       "    </tr>\n",
       "    <tr>\n",
       "      <th>226</th>\n",
       "      <td>1.570848</td>\n",
       "      <td>16.457755</td>\n",
       "      <td>14.886908</td>\n",
       "    </tr>\n",
       "    <tr>\n",
       "      <th>...</th>\n",
       "      <td>...</td>\n",
       "      <td>...</td>\n",
       "      <td>...</td>\n",
       "    </tr>\n",
       "    <tr>\n",
       "      <th>1309</th>\n",
       "      <td>0.108592</td>\n",
       "      <td>0.078681</td>\n",
       "      <td>0.029910</td>\n",
       "    </tr>\n",
       "    <tr>\n",
       "      <th>3328</th>\n",
       "      <td>0.290484</td>\n",
       "      <td>0.261194</td>\n",
       "      <td>0.029290</td>\n",
       "    </tr>\n",
       "    <tr>\n",
       "      <th>1741</th>\n",
       "      <td>0.181289</td>\n",
       "      <td>0.153385</td>\n",
       "      <td>0.027904</td>\n",
       "    </tr>\n",
       "    <tr>\n",
       "      <th>1745</th>\n",
       "      <td>0.141003</td>\n",
       "      <td>0.158087</td>\n",
       "      <td>0.017084</td>\n",
       "    </tr>\n",
       "    <tr>\n",
       "      <th>25</th>\n",
       "      <td>0.044938</td>\n",
       "      <td>0.054134</td>\n",
       "      <td>0.009195</td>\n",
       "    </tr>\n",
       "  </tbody>\n",
       "</table>\n",
       "<p>1101 rows × 3 columns</p>\n",
       "</div>"
      ],
      "text/plain": [
       "          true       pred      resid\n",
       "2178  0.000000  16.039840  16.039840\n",
       "217   2.612294  18.290943  15.678649\n",
       "254   0.187010  15.587821  15.400810\n",
       "220   2.239109  17.254810  15.015700\n",
       "226   1.570848  16.457755  14.886908\n",
       "...        ...        ...        ...\n",
       "1309  0.108592   0.078681   0.029910\n",
       "3328  0.290484   0.261194   0.029290\n",
       "1741  0.181289   0.153385   0.027904\n",
       "1745  0.141003   0.158087   0.017084\n",
       "25    0.044938   0.054134   0.009195\n",
       "\n",
       "[1101 rows x 3 columns]"
      ]
     },
     "metadata": {},
     "output_type": "display_data"
    },
    {
     "data": {
      "image/png": "[encoded data removed]",
      "text/plain": [
       "<Figure size 432x288 with 1 Axes>"
      ]
     },
     "metadata": {
      "needs_background": "light"
     },
     "output_type": "display_data"
    }
   ],
   "source": [
    "import math\n",
    "\n",
    "results = pd.DataFrame()\n",
    "results['true'] = y_test\n",
    "results['pred'] = predictions\n",
    "results['resid'] = results.apply(lambda x: abs(x['true'] - x['pred']), axis=1)\n",
    "results=results.sort_values('resid', ascending=False)\n",
    "\n",
    "results.to_csv('../Streamlit/LR_results.csv')\n",
    "\n",
    "display(results)\n",
    "sns.boxplot(x=results['resid'])\n",
    "plt.show()"
   ]
  },
  {
   "cell_type": "code",
   "execution_count": 45,
   "id": "fc0fd9f8",
   "metadata": {},
   "outputs": [
    {
     "data": {
      "text/plain": [
       "<AxesSubplot:xlabel='true', ylabel='pred'>"
      ]
     },
     "execution_count": 45,
     "metadata": {},
     "output_type": "execute_result"
    },
    {
     "data": {
      "image/png": "[encoded data removed]",
      "text/plain": [
       "<Figure size 432x288 with 1 Axes>"
      ]
     },
     "metadata": {
      "needs_background": "light"
     },
     "output_type": "display_data"
    }
   ],
   "source": [
    "sns.regplot(results['true'], results['pred'])"
   ]
  },
  {
   "cell_type": "code",
   "execution_count": null,
   "id": "9c9b2d21",
   "metadata": {},
   "outputs": [],
   "source": []
  }
 ],
 "metadata": {
  "kernelspec": {
   "display_name": "Python 3",
   "language": "python",
   "name": "python3"
  },
  "language_info": {
   "codemirror_mode": {
    "name": "ipython",
    "version": 3
   },
   "file_extension": ".py",
   "mimetype": "text/x-python",
   "name": "python",
   "nbconvert_exporter": "python",
   "pygments_lexer": "ipython3",
   "version": "3.8.8"
  }
 },
 "nbformat": 4,
 "nbformat_minor": 5
}
