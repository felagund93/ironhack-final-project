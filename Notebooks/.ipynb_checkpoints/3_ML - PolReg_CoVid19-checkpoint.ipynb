{
 "cells": [
  {
   "cell_type": "markdown",
   "id": "08b87917",
   "metadata": {},
   "source": [
    "# Fitting the data to a ML Polynomial Linear regression model"
   ]
  },
  {
   "cell_type": "markdown",
   "id": "de25b549",
   "metadata": {},
   "source": [
    "We will fit a model with the non-cumulative data and another with the cumulative data. This is because fitting both simultaneously can have an impact in the fit: the accumulated data can be \"contradictory\" with the non-cumulative."
   ]
  },
  {
   "cell_type": "code",
   "execution_count": 1,
   "id": "528ca264",
   "metadata": {},
   "outputs": [],
   "source": [
    "import pandas as pd\n",
    "import numpy as np\n",
    "import datetime\n",
    "import matplotlib.pyplot as plt\n",
    "import seaborn as sns\n",
    "import warnings\n",
    "pd.set_option('display.max_columns', None)\n",
    "warnings.filterwarnings('ignore')\n",
    "\n",
    "from sklearn.preprocessing import OneHotEncoder, StandardScaler, MinMaxScaler, Normalizer\n",
    "from sklearn.model_selection import train_test_split\n",
    "from sklearn.preprocessing import PolynomialFeatures\n",
    "from sklearn import preprocessing\n",
    "from sklearn.pipeline import Pipeline\n",
    "from sklearn.linear_model import LinearRegression\n",
    "from sklearn.metrics import r2_score, mean_squared_error, mean_absolute_error"
   ]
  },
  {
   "cell_type": "code",
   "execution_count": 2,
   "id": "a4a3fec0",
   "metadata": {},
   "outputs": [],
   "source": [
    "data = pd.read_csv('../ML_models/data_for_ML.csv').drop('Unnamed: 0',axis=1)"
   ]
  },
  {
   "cell_type": "code",
   "execution_count": 3,
   "id": "6645f91f",
   "metadata": {},
   "outputs": [
    {
     "data": {
      "text/html": [
       "<div>\n",
       "<style scoped>\n",
       "    .dataframe tbody tr th:only-of-type {\n",
       "        vertical-align: middle;\n",
       "    }\n",
       "\n",
       "    .dataframe tbody tr th {\n",
       "        vertical-align: top;\n",
       "    }\n",
       "\n",
       "    .dataframe thead th {\n",
       "        text-align: right;\n",
       "    }\n",
       "</style>\n",
       "<table border=\"1\" class=\"dataframe\">\n",
       "  <thead>\n",
       "    <tr style=\"text-align: right;\">\n",
       "      <th></th>\n",
       "      <th>year</th>\n",
       "      <th>week</th>\n",
       "      <th>geoId</th>\n",
       "      <th>cases_per_100khab</th>\n",
       "      <th>cmltve_cases</th>\n",
       "      <th>first_dose_100k</th>\n",
       "      <th>cmltve_first_dose</th>\n",
       "      <th>second_dose_100k</th>\n",
       "      <th>cmltve_second_dose</th>\n",
       "      <th>deaths_per_100khab</th>\n",
       "      <th>cmltve_deaths</th>\n",
       "    </tr>\n",
       "  </thead>\n",
       "  <tbody>\n",
       "    <tr>\n",
       "      <th>0</th>\n",
       "      <td>2020</td>\n",
       "      <td>0</td>\n",
       "      <td>AT</td>\n",
       "      <td>6.628421</td>\n",
       "      <td>12.886100</td>\n",
       "      <td>0.0</td>\n",
       "      <td>0.0</td>\n",
       "      <td>0.0</td>\n",
       "      <td>0.0</td>\n",
       "      <td>0.157285</td>\n",
       "      <td>0.280865</td>\n",
       "    </tr>\n",
       "    <tr>\n",
       "      <th>1</th>\n",
       "      <td>2020</td>\n",
       "      <td>1</td>\n",
       "      <td>AT</td>\n",
       "      <td>108.604994</td>\n",
       "      <td>242.139591</td>\n",
       "      <td>0.0</td>\n",
       "      <td>0.0</td>\n",
       "      <td>0.0</td>\n",
       "      <td>0.0</td>\n",
       "      <td>1.808773</td>\n",
       "      <td>3.505199</td>\n",
       "    </tr>\n",
       "    <tr>\n",
       "      <th>2</th>\n",
       "      <td>2020</td>\n",
       "      <td>5</td>\n",
       "      <td>AT</td>\n",
       "      <td>11.976096</td>\n",
       "      <td>847.932337</td>\n",
       "      <td>0.0</td>\n",
       "      <td>0.0</td>\n",
       "      <td>0.0</td>\n",
       "      <td>0.0</td>\n",
       "      <td>0.258396</td>\n",
       "      <td>15.245368</td>\n",
       "    </tr>\n",
       "    <tr>\n",
       "      <th>3</th>\n",
       "      <td>2020</td>\n",
       "      <td>6</td>\n",
       "      <td>AT</td>\n",
       "      <td>109.829566</td>\n",
       "      <td>572.571998</td>\n",
       "      <td>0.0</td>\n",
       "      <td>0.0</td>\n",
       "      <td>0.0</td>\n",
       "      <td>0.0</td>\n",
       "      <td>1.797538</td>\n",
       "      <td>9.010159</td>\n",
       "    </tr>\n",
       "    <tr>\n",
       "      <th>4</th>\n",
       "      <td>2020</td>\n",
       "      <td>8</td>\n",
       "      <td>AT</td>\n",
       "      <td>0.089877</td>\n",
       "      <td>948.369768</td>\n",
       "      <td>0.0</td>\n",
       "      <td>0.0</td>\n",
       "      <td>0.0</td>\n",
       "      <td>0.0</td>\n",
       "      <td>0.000000</td>\n",
       "      <td>16.087964</td>\n",
       "    </tr>\n",
       "  </tbody>\n",
       "</table>\n",
       "</div>"
      ],
      "text/plain": [
       "   year  week geoId  cases_per_100khab  cmltve_cases  first_dose_100k  \\\n",
       "0  2020     0    AT           6.628421     12.886100              0.0   \n",
       "1  2020     1    AT         108.604994    242.139591              0.0   \n",
       "2  2020     5    AT          11.976096    847.932337              0.0   \n",
       "3  2020     6    AT         109.829566    572.571998              0.0   \n",
       "4  2020     8    AT           0.089877    948.369768              0.0   \n",
       "\n",
       "   cmltve_first_dose  second_dose_100k  cmltve_second_dose  \\\n",
       "0                0.0               0.0                 0.0   \n",
       "1                0.0               0.0                 0.0   \n",
       "2                0.0               0.0                 0.0   \n",
       "3                0.0               0.0                 0.0   \n",
       "4                0.0               0.0                 0.0   \n",
       "\n",
       "   deaths_per_100khab  cmltve_deaths  \n",
       "0            0.157285       0.280865  \n",
       "1            1.808773       3.505199  \n",
       "2            0.258396      15.245368  \n",
       "3            1.797538       9.010159  \n",
       "4            0.000000      16.087964  "
      ]
     },
     "execution_count": 3,
     "metadata": {},
     "output_type": "execute_result"
    }
   ],
   "source": [
    "data.head()"
   ]
  },
  {
   "cell_type": "code",
   "execution_count": 4,
   "id": "f447babd",
   "metadata": {},
   "outputs": [],
   "source": [
    "data['year']=data['year'].astype(str)\n",
    "data['week']=data['week'].astype(str)"
   ]
  },
  {
   "cell_type": "code",
   "execution_count": 5,
   "id": "fd48326d",
   "metadata": {},
   "outputs": [
    {
     "name": "stdout",
     "output_type": "stream",
     "text": [
      "<class 'pandas.core.frame.DataFrame'>\n",
      "RangeIndex: 3667 entries, 0 to 3666\n",
      "Data columns (total 11 columns):\n",
      " #   Column              Non-Null Count  Dtype  \n",
      "---  ------              --------------  -----  \n",
      " 0   year                3667 non-null   object \n",
      " 1   week                3667 non-null   object \n",
      " 2   geoId               3667 non-null   object \n",
      " 3   cases_per_100khab   3667 non-null   float64\n",
      " 4   cmltve_cases        3667 non-null   float64\n",
      " 5   first_dose_100k     3667 non-null   float64\n",
      " 6   cmltve_first_dose   3667 non-null   float64\n",
      " 7   second_dose_100k    3667 non-null   float64\n",
      " 8   cmltve_second_dose  3667 non-null   float64\n",
      " 9   deaths_per_100khab  3667 non-null   float64\n",
      " 10  cmltve_deaths       3667 non-null   float64\n",
      "dtypes: float64(8), object(3)\n",
      "memory usage: 315.3+ KB\n"
     ]
    }
   ],
   "source": [
    "data.info()"
   ]
  },
  {
   "cell_type": "markdown",
   "id": "c410d5e3",
   "metadata": {},
   "source": [
    "## Non-cumulative data (data_new)"
   ]
  },
  {
   "cell_type": "code",
   "execution_count": 6,
   "id": "84747bed",
   "metadata": {},
   "outputs": [],
   "source": [
    "ncd=['year','week','geoId','cases_per_100khab','first_dose_100k','second_dose_100k','deaths_per_100khab']\n",
    "data_new=data[ncd]"
   ]
  },
  {
   "cell_type": "markdown",
   "id": "4a04795f",
   "metadata": {},
   "source": [
    "## EDA"
   ]
  },
  {
   "cell_type": "markdown",
   "id": "a0293078",
   "metadata": {},
   "source": [
    "#### Note:\n",
    "As we would see later down the pipeline, the Kernel breaks if the categorical features are considered in the polynomial model. For that reason, those features will be excluded when fitting the model."
   ]
  },
  {
   "cell_type": "code",
   "execution_count": 7,
   "id": "e0481540",
   "metadata": {},
   "outputs": [
    {
     "data": {
      "text/html": [
       "<div>\n",
       "<style scoped>\n",
       "    .dataframe tbody tr th:only-of-type {\n",
       "        vertical-align: middle;\n",
       "    }\n",
       "\n",
       "    .dataframe tbody tr th {\n",
       "        vertical-align: top;\n",
       "    }\n",
       "\n",
       "    .dataframe thead th {\n",
       "        text-align: right;\n",
       "    }\n",
       "</style>\n",
       "<table border=\"1\" class=\"dataframe\">\n",
       "  <thead>\n",
       "    <tr style=\"text-align: right;\">\n",
       "      <th></th>\n",
       "      <th>cases_per_100khab</th>\n",
       "      <th>first_dose_100k</th>\n",
       "      <th>second_dose_100k</th>\n",
       "      <th>deaths_per_100khab</th>\n",
       "    </tr>\n",
       "  </thead>\n",
       "  <tbody>\n",
       "    <tr>\n",
       "      <th>count</th>\n",
       "      <td>3667.00</td>\n",
       "      <td>3667.00</td>\n",
       "      <td>3667.00</td>\n",
       "      <td>3667.00</td>\n",
       "    </tr>\n",
       "    <tr>\n",
       "      <th>mean</th>\n",
       "      <td>231.22</td>\n",
       "      <td>1419.92</td>\n",
       "      <td>1273.41</td>\n",
       "      <td>1.79</td>\n",
       "    </tr>\n",
       "    <tr>\n",
       "      <th>std</th>\n",
       "      <td>418.63</td>\n",
       "      <td>2795.19</td>\n",
       "      <td>2735.96</td>\n",
       "      <td>2.39</td>\n",
       "    </tr>\n",
       "    <tr>\n",
       "      <th>min</th>\n",
       "      <td>-407.19</td>\n",
       "      <td>0.00</td>\n",
       "      <td>0.00</td>\n",
       "      <td>-0.02</td>\n",
       "    </tr>\n",
       "    <tr>\n",
       "      <th>25%</th>\n",
       "      <td>28.71</td>\n",
       "      <td>0.00</td>\n",
       "      <td>0.00</td>\n",
       "      <td>0.24</td>\n",
       "    </tr>\n",
       "    <tr>\n",
       "      <th>50%</th>\n",
       "      <td>116.75</td>\n",
       "      <td>0.00</td>\n",
       "      <td>0.00</td>\n",
       "      <td>0.93</td>\n",
       "    </tr>\n",
       "    <tr>\n",
       "      <th>75%</th>\n",
       "      <td>261.09</td>\n",
       "      <td>1472.17</td>\n",
       "      <td>1138.27</td>\n",
       "      <td>2.44</td>\n",
       "    </tr>\n",
       "    <tr>\n",
       "      <th>max</th>\n",
       "      <td>6993.58</td>\n",
       "      <td>24286.06</td>\n",
       "      <td>26069.80</td>\n",
       "      <td>20.65</td>\n",
       "    </tr>\n",
       "  </tbody>\n",
       "</table>\n",
       "</div>"
      ],
      "text/plain": [
       "       cases_per_100khab  first_dose_100k  second_dose_100k  \\\n",
       "count            3667.00          3667.00           3667.00   \n",
       "mean              231.22          1419.92           1273.41   \n",
       "std               418.63          2795.19           2735.96   \n",
       "min              -407.19             0.00              0.00   \n",
       "25%                28.71             0.00              0.00   \n",
       "50%               116.75             0.00              0.00   \n",
       "75%               261.09          1472.17           1138.27   \n",
       "max              6993.58         24286.06          26069.80   \n",
       "\n",
       "       deaths_per_100khab  \n",
       "count             3667.00  \n",
       "mean                 1.79  \n",
       "std                  2.39  \n",
       "min                 -0.02  \n",
       "25%                  0.24  \n",
       "50%                  0.93  \n",
       "75%                  2.44  \n",
       "max                 20.65  "
      ]
     },
     "execution_count": 7,
     "metadata": {},
     "output_type": "execute_result"
    }
   ],
   "source": [
    "data_new.describe().round(2)"
   ]
  },
  {
   "cell_type": "code",
   "execution_count": 8,
   "id": "7613a475",
   "metadata": {},
   "outputs": [
    {
     "data": {
      "image/png": "[encoded data removed]",
      "text/plain": [
       "<Figure size 432x288 with 1 Axes>"
      ]
     },
     "metadata": {
      "needs_background": "light"
     },
     "output_type": "display_data"
    },
    {
     "data": {
      "image/png": "[encoded data removed]",
      "text/plain": [
       "<Figure size 432x288 with 1 Axes>"
      ]
     },
     "metadata": {
      "needs_background": "light"
     },
     "output_type": "display_data"
    },
    {
     "data": {
      "image/png": "[encoded data removed]",
      "text/plain": [
       "<Figure size 432x288 with 1 Axes>"
      ]
     },
     "metadata": {
      "needs_background": "light"
     },
     "output_type": "display_data"
    },
    {
     "data": {
      "image/png": "[encoded data removed]",
      "text/plain": [
       "<Figure size 432x288 with 1 Axes>"
      ]
     },
     "metadata": {
      "needs_background": "light"
     },
     "output_type": "display_data"
    }
   ],
   "source": [
    "for column in data_new.select_dtypes(np.number).columns:\n",
    "    sns.distplot(data_new[column])\n",
    "    plt.show()"
   ]
  },
  {
   "cell_type": "code",
   "execution_count": 9,
   "id": "b3e9bfc7",
   "metadata": {},
   "outputs": [
    {
     "data": {
      "image/png": "[encoded data removed]",
      "text/plain": [
       "<Figure size 1008x864 with 2 Axes>"
      ]
     },
     "metadata": {
      "needs_background": "light"
     },
     "output_type": "display_data"
    }
   ],
   "source": [
    "# Correlation matrix\n",
    "corr_mat = data_new.corr(method='spearman')\n",
    "mask = np.zeros_like(corr_mat)\n",
    "mask[np.triu_indices_from(mask)] = True # Mask to hide the repeated half of the matrix\n",
    "\n",
    "fig, ax = plt.subplots(figsize=(14, 12)) # this will set the width and height of the plot\n",
    "sns.set_context('paper') #This affects things like the size of the labels, lines, and other elements of the plot\n",
    "ax = sns.heatmap(corr_mat, mask=mask, annot=True, cmap='jet') # Heatmap declaration\n",
    "ax.set_title('Multi-collinearity of customer features') #Title for the graph\n",
    "plt.show()"
   ]
  },
  {
   "cell_type": "code",
   "execution_count": 22,
   "id": "b27ef390",
   "metadata": {},
   "outputs": [],
   "source": [
    "data_new.drop('second_dose_100k', axis=1, inplace=True)"
   ]
  },
  {
   "cell_type": "markdown",
   "id": "c5bd2d5f",
   "metadata": {},
   "source": [
    "## Preprocessing"
   ]
  },
  {
   "cell_type": "code",
   "execution_count": 23,
   "id": "df3971af",
   "metadata": {},
   "outputs": [
    {
     "data": {
      "text/plain": [
       "Index(['year', 'week', 'geoId', 'cases_per_100khab', 'first_dose_100k'], dtype='object')"
      ]
     },
     "execution_count": 23,
     "metadata": {},
     "output_type": "execute_result"
    }
   ],
   "source": [
    "# X-y Split\n",
    "y = data_new['deaths_per_100khab']\n",
    "X = data_new.drop(['deaths_per_100khab'], axis=1)\n",
    "X.columns"
   ]
  },
  {
   "cell_type": "code",
   "execution_count": 24,
   "id": "5e93d1f4",
   "metadata": {},
   "outputs": [
    {
     "data": {
      "text/html": [
       "<div>\n",
       "<style scoped>\n",
       "    .dataframe tbody tr th:only-of-type {\n",
       "        vertical-align: middle;\n",
       "    }\n",
       "\n",
       "    .dataframe tbody tr th {\n",
       "        vertical-align: top;\n",
       "    }\n",
       "\n",
       "    .dataframe thead th {\n",
       "        text-align: right;\n",
       "    }\n",
       "</style>\n",
       "<table border=\"1\" class=\"dataframe\">\n",
       "  <thead>\n",
       "    <tr style=\"text-align: right;\">\n",
       "      <th></th>\n",
       "      <th>cases_per_100khab</th>\n",
       "      <th>first_dose_100k</th>\n",
       "    </tr>\n",
       "  </thead>\n",
       "  <tbody>\n",
       "    <tr>\n",
       "      <th>0</th>\n",
       "      <td>6.628421</td>\n",
       "      <td>0.0</td>\n",
       "    </tr>\n",
       "    <tr>\n",
       "      <th>1</th>\n",
       "      <td>108.604994</td>\n",
       "      <td>0.0</td>\n",
       "    </tr>\n",
       "    <tr>\n",
       "      <th>2</th>\n",
       "      <td>11.976096</td>\n",
       "      <td>0.0</td>\n",
       "    </tr>\n",
       "    <tr>\n",
       "      <th>3</th>\n",
       "      <td>109.829566</td>\n",
       "      <td>0.0</td>\n",
       "    </tr>\n",
       "    <tr>\n",
       "      <th>4</th>\n",
       "      <td>0.089877</td>\n",
       "      <td>0.0</td>\n",
       "    </tr>\n",
       "    <tr>\n",
       "      <th>...</th>\n",
       "      <td>...</td>\n",
       "      <td>...</td>\n",
       "    </tr>\n",
       "    <tr>\n",
       "      <th>3662</th>\n",
       "      <td>513.460097</td>\n",
       "      <td>0.0</td>\n",
       "    </tr>\n",
       "    <tr>\n",
       "      <th>3663</th>\n",
       "      <td>477.823504</td>\n",
       "      <td>0.0</td>\n",
       "    </tr>\n",
       "    <tr>\n",
       "      <th>3664</th>\n",
       "      <td>505.471637</td>\n",
       "      <td>0.0</td>\n",
       "    </tr>\n",
       "    <tr>\n",
       "      <th>3665</th>\n",
       "      <td>506.021302</td>\n",
       "      <td>0.0</td>\n",
       "    </tr>\n",
       "    <tr>\n",
       "      <th>3666</th>\n",
       "      <td>369.960972</td>\n",
       "      <td>0.0</td>\n",
       "    </tr>\n",
       "  </tbody>\n",
       "</table>\n",
       "<p>3667 rows × 2 columns</p>\n",
       "</div>"
      ],
      "text/plain": [
       "      cases_per_100khab  first_dose_100k\n",
       "0              6.628421              0.0\n",
       "1            108.604994              0.0\n",
       "2             11.976096              0.0\n",
       "3            109.829566              0.0\n",
       "4              0.089877              0.0\n",
       "...                 ...              ...\n",
       "3662         513.460097              0.0\n",
       "3663         477.823504              0.0\n",
       "3664         505.471637              0.0\n",
       "3665         506.021302              0.0\n",
       "3666         369.960972              0.0\n",
       "\n",
       "[3667 rows x 2 columns]"
      ]
     },
     "execution_count": 24,
     "metadata": {},
     "output_type": "execute_result"
    }
   ],
   "source": [
    "# Separate numerical from categorical values\n",
    "\n",
    "X_num = X.select_dtypes(include='number')\n",
    "X_num"
   ]
  },
  {
   "cell_type": "code",
   "execution_count": 25,
   "id": "c1e619fe",
   "metadata": {},
   "outputs": [],
   "source": [
    "# Preprocessing polynomial features for numerical values\n",
    "degree=4 #Found in literature. Rustagi et al. 2022 (Frontiers)\n",
    "poly=PolynomialFeatures(degree)\n",
    "X_poly=poly.fit_transform(X_num)\n",
    "cols=poly.get_feature_names_out(input_features=X_num.columns)"
   ]
  },
  {
   "cell_type": "code",
   "execution_count": 26,
   "id": "1646e2c6",
   "metadata": {},
   "outputs": [],
   "source": [
    "X_ready = pd.DataFrame(data=X_poly, index=X.index, columns=cols).drop('1',axis=1)"
   ]
  },
  {
   "cell_type": "code",
   "execution_count": 27,
   "id": "cb5935e8",
   "metadata": {},
   "outputs": [
    {
     "data": {
      "text/plain": [
       "(3667, 14)"
      ]
     },
     "execution_count": 27,
     "metadata": {},
     "output_type": "execute_result"
    }
   ],
   "source": [
    "X_ready.shape"
   ]
  },
  {
   "cell_type": "code",
   "execution_count": 28,
   "id": "3069341c",
   "metadata": {},
   "outputs": [
    {
     "data": {
      "text/html": [
       "<div>\n",
       "<style scoped>\n",
       "    .dataframe tbody tr th:only-of-type {\n",
       "        vertical-align: middle;\n",
       "    }\n",
       "\n",
       "    .dataframe tbody tr th {\n",
       "        vertical-align: top;\n",
       "    }\n",
       "\n",
       "    .dataframe thead th {\n",
       "        text-align: right;\n",
       "    }\n",
       "</style>\n",
       "<table border=\"1\" class=\"dataframe\">\n",
       "  <thead>\n",
       "    <tr style=\"text-align: right;\">\n",
       "      <th></th>\n",
       "      <th>cases_per_100khab</th>\n",
       "      <th>first_dose_100k</th>\n",
       "      <th>cases_per_100khab^2</th>\n",
       "      <th>cases_per_100khab first_dose_100k</th>\n",
       "      <th>first_dose_100k^2</th>\n",
       "      <th>cases_per_100khab^3</th>\n",
       "      <th>cases_per_100khab^2 first_dose_100k</th>\n",
       "      <th>cases_per_100khab first_dose_100k^2</th>\n",
       "      <th>first_dose_100k^3</th>\n",
       "      <th>cases_per_100khab^4</th>\n",
       "      <th>cases_per_100khab^3 first_dose_100k</th>\n",
       "      <th>cases_per_100khab^2 first_dose_100k^2</th>\n",
       "      <th>cases_per_100khab first_dose_100k^3</th>\n",
       "      <th>first_dose_100k^4</th>\n",
       "    </tr>\n",
       "  </thead>\n",
       "  <tbody>\n",
       "    <tr>\n",
       "      <th>223</th>\n",
       "      <td>354.100347</td>\n",
       "      <td>0.000000</td>\n",
       "      <td>125387.055605</td>\n",
       "      <td>0.000000</td>\n",
       "      <td>0.000</td>\n",
       "      <td>4.439960e+07</td>\n",
       "      <td>0.000000e+00</td>\n",
       "      <td>0.000000e+00</td>\n",
       "      <td>0.000000e+00</td>\n",
       "      <td>1.572191e+10</td>\n",
       "      <td>0.000000e+00</td>\n",
       "      <td>0.000000e+00</td>\n",
       "      <td>0.000000e+00</td>\n",
       "      <td>0.000000e+00</td>\n",
       "    </tr>\n",
       "    <tr>\n",
       "      <th>2568</th>\n",
       "      <td>673.332722</td>\n",
       "      <td>0.000000</td>\n",
       "      <td>453376.954204</td>\n",
       "      <td>0.000000</td>\n",
       "      <td>0.000</td>\n",
       "      <td>3.052735e+08</td>\n",
       "      <td>0.000000e+00</td>\n",
       "      <td>0.000000e+00</td>\n",
       "      <td>0.000000e+00</td>\n",
       "      <td>2.055507e+11</td>\n",
       "      <td>0.000000e+00</td>\n",
       "      <td>0.000000e+00</td>\n",
       "      <td>0.000000e+00</td>\n",
       "      <td>0.000000e+00</td>\n",
       "    </tr>\n",
       "    <tr>\n",
       "      <th>2688</th>\n",
       "      <td>184.233642</td>\n",
       "      <td>0.000000</td>\n",
       "      <td>33942.035015</td>\n",
       "      <td>0.000000</td>\n",
       "      <td>0.000</td>\n",
       "      <td>6.253265e+06</td>\n",
       "      <td>0.000000e+00</td>\n",
       "      <td>0.000000e+00</td>\n",
       "      <td>0.000000e+00</td>\n",
       "      <td>1.152062e+09</td>\n",
       "      <td>0.000000e+00</td>\n",
       "      <td>0.000000e+00</td>\n",
       "      <td>0.000000e+00</td>\n",
       "      <td>0.000000e+00</td>\n",
       "    </tr>\n",
       "    <tr>\n",
       "      <th>3396</th>\n",
       "      <td>222.404280</td>\n",
       "      <td>349.161842</td>\n",
       "      <td>49463.663948</td>\n",
       "      <td>77655.088248</td>\n",
       "      <td>121913.992</td>\n",
       "      <td>1.100093e+07</td>\n",
       "      <td>1.727082e+07</td>\n",
       "      <td>2.711419e+07</td>\n",
       "      <td>4.256771e+07</td>\n",
       "      <td>2.446654e+09</td>\n",
       "      <td>3.841105e+09</td>\n",
       "      <td>6.030313e+09</td>\n",
       "      <td>9.467242e+09</td>\n",
       "      <td>1.486302e+10</td>\n",
       "    </tr>\n",
       "    <tr>\n",
       "      <th>359</th>\n",
       "      <td>162.785432</td>\n",
       "      <td>0.000000</td>\n",
       "      <td>26499.096852</td>\n",
       "      <td>0.000000</td>\n",
       "      <td>0.000</td>\n",
       "      <td>4.313667e+06</td>\n",
       "      <td>0.000000e+00</td>\n",
       "      <td>0.000000e+00</td>\n",
       "      <td>0.000000e+00</td>\n",
       "      <td>7.022021e+08</td>\n",
       "      <td>0.000000e+00</td>\n",
       "      <td>0.000000e+00</td>\n",
       "      <td>0.000000e+00</td>\n",
       "      <td>0.000000e+00</td>\n",
       "    </tr>\n",
       "  </tbody>\n",
       "</table>\n",
       "</div>"
      ],
      "text/plain": [
       "      cases_per_100khab  first_dose_100k  cases_per_100khab^2  \\\n",
       "223          354.100347         0.000000        125387.055605   \n",
       "2568         673.332722         0.000000        453376.954204   \n",
       "2688         184.233642         0.000000         33942.035015   \n",
       "3396         222.404280       349.161842         49463.663948   \n",
       "359          162.785432         0.000000         26499.096852   \n",
       "\n",
       "      cases_per_100khab first_dose_100k  first_dose_100k^2  \\\n",
       "223                            0.000000              0.000   \n",
       "2568                           0.000000              0.000   \n",
       "2688                           0.000000              0.000   \n",
       "3396                       77655.088248         121913.992   \n",
       "359                            0.000000              0.000   \n",
       "\n",
       "      cases_per_100khab^3  cases_per_100khab^2 first_dose_100k  \\\n",
       "223          4.439960e+07                         0.000000e+00   \n",
       "2568         3.052735e+08                         0.000000e+00   \n",
       "2688         6.253265e+06                         0.000000e+00   \n",
       "3396         1.100093e+07                         1.727082e+07   \n",
       "359          4.313667e+06                         0.000000e+00   \n",
       "\n",
       "      cases_per_100khab first_dose_100k^2  first_dose_100k^3  \\\n",
       "223                          0.000000e+00       0.000000e+00   \n",
       "2568                         0.000000e+00       0.000000e+00   \n",
       "2688                         0.000000e+00       0.000000e+00   \n",
       "3396                         2.711419e+07       4.256771e+07   \n",
       "359                          0.000000e+00       0.000000e+00   \n",
       "\n",
       "      cases_per_100khab^4  cases_per_100khab^3 first_dose_100k  \\\n",
       "223          1.572191e+10                         0.000000e+00   \n",
       "2568         2.055507e+11                         0.000000e+00   \n",
       "2688         1.152062e+09                         0.000000e+00   \n",
       "3396         2.446654e+09                         3.841105e+09   \n",
       "359          7.022021e+08                         0.000000e+00   \n",
       "\n",
       "      cases_per_100khab^2 first_dose_100k^2  \\\n",
       "223                            0.000000e+00   \n",
       "2568                           0.000000e+00   \n",
       "2688                           0.000000e+00   \n",
       "3396                           6.030313e+09   \n",
       "359                            0.000000e+00   \n",
       "\n",
       "      cases_per_100khab first_dose_100k^3  first_dose_100k^4  \n",
       "223                          0.000000e+00       0.000000e+00  \n",
       "2568                         0.000000e+00       0.000000e+00  \n",
       "2688                         0.000000e+00       0.000000e+00  \n",
       "3396                         9.467242e+09       1.486302e+10  \n",
       "359                          0.000000e+00       0.000000e+00  "
      ]
     },
     "execution_count": 28,
     "metadata": {},
     "output_type": "execute_result"
    }
   ],
   "source": [
    "X_ready.sample(5)"
   ]
  },
  {
   "cell_type": "code",
   "execution_count": 29,
   "id": "758f5e18",
   "metadata": {},
   "outputs": [],
   "source": [
    "# Train-test split\n",
    "X_train, X_test, y_train, y_test = train_test_split(X_ready, y, test_size=0.3, random_state=42)"
   ]
  },
  {
   "cell_type": "markdown",
   "id": "e941ddad",
   "metadata": {},
   "source": [
    "### Model fitting"
   ]
  },
  {
   "cell_type": "code",
   "execution_count": 30,
   "id": "4cb454d2",
   "metadata": {},
   "outputs": [],
   "source": [
    "scaler=StandardScaler()\n",
    "X_train = scaler.fit_transform(X_train)\n",
    "X_test = scaler.transform (X_test)\n",
    "scaler_y = StandardScaler().fit(y_train.to_numpy().reshape(-1, 1))"
   ]
  },
  {
   "cell_type": "code",
   "execution_count": 31,
   "id": "39623fc5",
   "metadata": {},
   "outputs": [
    {
     "data": {
      "text/plain": [
       "0.13097836369051508"
      ]
     },
     "execution_count": 31,
     "metadata": {},
     "output_type": "execute_result"
    }
   ],
   "source": [
    "model = LinearRegression()\n",
    "model.fit(X_train,y_train)\n",
    "model.score(X_test,y_test)"
   ]
  },
  {
   "cell_type": "markdown",
   "id": "08d6bb20",
   "metadata": {},
   "source": [
    "## Evaluation"
   ]
  },
  {
   "cell_type": "code",
   "execution_count": 32,
   "id": "ca17f6cb",
   "metadata": {},
   "outputs": [
    {
     "name": "stdout",
     "output_type": "stream",
     "text": [
      "R2 = 0.13097836369051508 MAE = 4.7001608751804005 MSE = 29.163291933150532 RMSE = 5.400304800022915\n"
     ]
    }
   ],
   "source": [
    "predictions_norm = model.predict(X_test)\n",
    "R2 = r2_score(y_test, predictions_norm)\n",
    "\n",
    "predictions = scaler_y.inverse_transform(predictions_norm.reshape(-1, 1))\n",
    "\n",
    "MAE = mean_absolute_error(y_test, predictions)\n",
    "MSE = mean_squared_error(y_test, predictions, squared=True)\n",
    "RMSE = mean_squared_error(y_test, predictions, squared=False)\n",
    "\n",
    "print('R2 =',R2, 'MAE =', MAE, 'MSE =', MSE, 'RMSE =', RMSE)"
   ]
  },
  {
   "cell_type": "code",
   "execution_count": 33,
   "id": "c32cab97",
   "metadata": {},
   "outputs": [
    {
     "data": {
      "text/html": [
       "<div>\n",
       "<style scoped>\n",
       "    .dataframe tbody tr th:only-of-type {\n",
       "        vertical-align: middle;\n",
       "    }\n",
       "\n",
       "    .dataframe tbody tr th {\n",
       "        vertical-align: top;\n",
       "    }\n",
       "\n",
       "    .dataframe thead th {\n",
       "        text-align: right;\n",
       "    }\n",
       "</style>\n",
       "<table border=\"1\" class=\"dataframe\">\n",
       "  <thead>\n",
       "    <tr style=\"text-align: right;\">\n",
       "      <th></th>\n",
       "      <th>true</th>\n",
       "      <th>pred</th>\n",
       "      <th>resid</th>\n",
       "    </tr>\n",
       "  </thead>\n",
       "  <tbody>\n",
       "    <tr>\n",
       "      <th>1425</th>\n",
       "      <td>1.455729</td>\n",
       "      <td>-17.021363</td>\n",
       "      <td>18.477092</td>\n",
       "    </tr>\n",
       "    <tr>\n",
       "      <th>2153</th>\n",
       "      <td>20.646760</td>\n",
       "      <td>3.308898</td>\n",
       "      <td>17.337862</td>\n",
       "    </tr>\n",
       "    <tr>\n",
       "      <th>288</th>\n",
       "      <td>13.306515</td>\n",
       "      <td>1.655121</td>\n",
       "      <td>11.651394</td>\n",
       "    </tr>\n",
       "    <tr>\n",
       "      <th>1660</th>\n",
       "      <td>17.503408</td>\n",
       "      <td>5.860581</td>\n",
       "      <td>11.642827</td>\n",
       "    </tr>\n",
       "    <tr>\n",
       "      <th>3470</th>\n",
       "      <td>14.075361</td>\n",
       "      <td>2.583788</td>\n",
       "      <td>11.491573</td>\n",
       "    </tr>\n",
       "    <tr>\n",
       "      <th>...</th>\n",
       "      <td>...</td>\n",
       "      <td>...</td>\n",
       "      <td>...</td>\n",
       "    </tr>\n",
       "    <tr>\n",
       "      <th>3257</th>\n",
       "      <td>0.729480</td>\n",
       "      <td>0.739912</td>\n",
       "      <td>0.010432</td>\n",
       "    </tr>\n",
       "    <tr>\n",
       "      <th>3326</th>\n",
       "      <td>1.316861</td>\n",
       "      <td>1.325093</td>\n",
       "      <td>0.008232</td>\n",
       "    </tr>\n",
       "    <tr>\n",
       "      <th>1514</th>\n",
       "      <td>1.108876</td>\n",
       "      <td>1.106497</td>\n",
       "      <td>0.002378</td>\n",
       "    </tr>\n",
       "    <tr>\n",
       "      <th>3313</th>\n",
       "      <td>1.500834</td>\n",
       "      <td>1.498796</td>\n",
       "      <td>0.002039</td>\n",
       "    </tr>\n",
       "    <tr>\n",
       "      <th>2338</th>\n",
       "      <td>2.076319</td>\n",
       "      <td>2.074408</td>\n",
       "      <td>0.001911</td>\n",
       "    </tr>\n",
       "  </tbody>\n",
       "</table>\n",
       "<p>1101 rows × 3 columns</p>\n",
       "</div>"
      ],
      "text/plain": [
       "           true       pred      resid\n",
       "1425   1.455729 -17.021363  18.477092\n",
       "2153  20.646760   3.308898  17.337862\n",
       "288   13.306515   1.655121  11.651394\n",
       "1660  17.503408   5.860581  11.642827\n",
       "3470  14.075361   2.583788  11.491573\n",
       "...         ...        ...        ...\n",
       "3257   0.729480   0.739912   0.010432\n",
       "3326   1.316861   1.325093   0.008232\n",
       "1514   1.108876   1.106497   0.002378\n",
       "3313   1.500834   1.498796   0.002039\n",
       "2338   2.076319   2.074408   0.001911\n",
       "\n",
       "[1101 rows x 3 columns]"
      ]
     },
     "metadata": {},
     "output_type": "display_data"
    },
    {
     "data": {
      "image/png": "[encoded data removed]",
      "text/plain": [
       "<Figure size 432x288 with 1 Axes>"
      ]
     },
     "metadata": {
      "needs_background": "light"
     },
     "output_type": "display_data"
    }
   ],
   "source": [
    "import math\n",
    "\n",
    "results = pd.DataFrame()\n",
    "results['true'] = y_test\n",
    "results['pred'] = predictions_norm\n",
    "results['resid'] = results.apply(lambda x: abs(x['true'] - x['pred']), axis=1)\n",
    "results=results.sort_values('resid', ascending=False)\n",
    "\n",
    "display(results)\n",
    "sns.boxplot(x=results['resid'])\n",
    "plt.show()"
   ]
  },
  {
   "cell_type": "code",
   "execution_count": 34,
   "id": "d683b3c6",
   "metadata": {},
   "outputs": [
    {
     "data": {
      "text/plain": [
       "<AxesSubplot:xlabel='true', ylabel='pred'>"
      ]
     },
     "execution_count": 34,
     "metadata": {},
     "output_type": "execute_result"
    },
    {
     "data": {
      "image/png": "[encoded data removed]",
      "text/plain": [
       "<Figure size 432x288 with 1 Axes>"
      ]
     },
     "metadata": {
      "needs_background": "light"
     },
     "output_type": "display_data"
    }
   ],
   "source": [
    "sns.regplot(results['true'], results['pred'])"
   ]
  },
  {
   "cell_type": "markdown",
   "id": "62159ac7",
   "metadata": {},
   "source": [
    "The conclusion we can extract from the metrics of this model is that polynomial regression is not a good model to predict CoVid deaths based on these features."
   ]
  }
 ],
 "metadata": {
  "kernelspec": {
   "display_name": "Python 3",
   "language": "python",
   "name": "python3"
  },
  "language_info": {
   "codemirror_mode": {
    "name": "ipython",
    "version": 3
   },
   "file_extension": ".py",
   "mimetype": "text/x-python",
   "name": "python",
   "nbconvert_exporter": "python",
   "pygments_lexer": "ipython3",
   "version": "3.8.8"
  }
 },
 "nbformat": 4,
 "nbformat_minor": 5
}
