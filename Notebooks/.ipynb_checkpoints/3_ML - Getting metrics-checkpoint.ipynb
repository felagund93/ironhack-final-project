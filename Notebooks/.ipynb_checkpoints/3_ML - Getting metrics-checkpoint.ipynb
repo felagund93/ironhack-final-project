{
 "cells": [
  {
   "cell_type": "code",
   "execution_count": 15,
   "id": "05f6ae46",
   "metadata": {},
   "outputs": [],
   "source": [
    "import pandas as pd\n",
    "import numpy as np\n",
    "import glob\n",
    "import matplotlib.pyplot as plt"
   ]
  },
  {
   "cell_type": "code",
   "execution_count": 20,
   "id": "a561993e",
   "metadata": {},
   "outputs": [],
   "source": [
    "metrics_list=[]\n",
    "metrics_list=[pd.read_csv(infile).drop('Unnamed: 0',axis=1) for infile in glob.glob('../Streamlit/*_metrics.csv')]\n",
    "metrics=pd.DataFrame()\n",
    "metrics=pd.concat(metrics_list,axis=0).sort_values(by=['model']).drop_duplicates().reset_index().drop('index',axis=1)"
   ]
  },
  {
   "cell_type": "code",
   "execution_count": 21,
   "id": "9d442d1d",
   "metadata": {},
   "outputs": [
    {
     "data": {
      "text/html": [
       "<div>\n",
       "<style scoped>\n",
       "    .dataframe tbody tr th:only-of-type {\n",
       "        vertical-align: middle;\n",
       "    }\n",
       "\n",
       "    .dataframe tbody tr th {\n",
       "        vertical-align: top;\n",
       "    }\n",
       "\n",
       "    .dataframe thead th {\n",
       "        text-align: right;\n",
       "    }\n",
       "</style>\n",
       "<table border=\"1\" class=\"dataframe\">\n",
       "  <thead>\n",
       "    <tr style=\"text-align: right;\">\n",
       "      <th></th>\n",
       "      <th>model</th>\n",
       "      <th>score</th>\n",
       "      <th>mean_absolute_error</th>\n",
       "      <th>mean_squared_error</th>\n",
       "      <th>RMSE</th>\n",
       "    </tr>\n",
       "  </thead>\n",
       "  <tbody>\n",
       "    <tr>\n",
       "      <th>0</th>\n",
       "      <td>LR</td>\n",
       "      <td>0.321114</td>\n",
       "      <td>4.877155</td>\n",
       "      <td>3.286192e+01</td>\n",
       "      <td>5.732531</td>\n",
       "    </tr>\n",
       "    <tr>\n",
       "      <th>1</th>\n",
       "      <td>LR_accum</td>\n",
       "      <td>0.812443</td>\n",
       "      <td>364844.360508</td>\n",
       "      <td>2.070682e+11</td>\n",
       "      <td>455047.457275</td>\n",
       "    </tr>\n",
       "    <tr>\n",
       "      <th>2</th>\n",
       "      <td>SVR</td>\n",
       "      <td>0.300746</td>\n",
       "      <td>4.030486</td>\n",
       "      <td>2.264935e+01</td>\n",
       "      <td>4.759133</td>\n",
       "    </tr>\n",
       "    <tr>\n",
       "      <th>3</th>\n",
       "      <td>SVR_accum</td>\n",
       "      <td>0.742399</td>\n",
       "      <td>307218.410316</td>\n",
       "      <td>1.457470e+11</td>\n",
       "      <td>381768.243739</td>\n",
       "    </tr>\n",
       "  </tbody>\n",
       "</table>\n",
       "</div>"
      ],
      "text/plain": [
       "       model     score  mean_absolute_error  mean_squared_error           RMSE\n",
       "0         LR  0.321114             4.877155        3.286192e+01       5.732531\n",
       "1   LR_accum  0.812443        364844.360508        2.070682e+11  455047.457275\n",
       "2        SVR  0.300746             4.030486        2.264935e+01       4.759133\n",
       "3  SVR_accum  0.742399        307218.410316        1.457470e+11  381768.243739"
      ]
     },
     "execution_count": 21,
     "metadata": {},
     "output_type": "execute_result"
    }
   ],
   "source": [
    "metrics"
   ]
  },
  {
   "cell_type": "code",
   "execution_count": 22,
   "id": "d55431b7",
   "metadata": {},
   "outputs": [],
   "source": [
    "metrics.to_csv('../Streamlit/ML_global_metrics.csv')"
   ]
  },
  {
   "cell_type": "code",
   "execution_count": 24,
   "id": "d73f1574",
   "metadata": {},
   "outputs": [
    {
     "data": {
      "image/png": "[encoded data removed]",
      "text/plain": [
       "<Figure size 432x288 with 1 Axes>"
      ]
     },
     "metadata": {
      "needs_background": "light"
     },
     "output_type": "display_data"
    }
   ],
   "source": [
    "glob_metrics=metrics.copy()\n",
    "\n",
    "score_chart=glob_metrics.plot.bar(x='model', y='score')\n",
    "plt.show(score_chart)"
   ]
  },
  {
   "cell_type": "code",
   "execution_count": 59,
   "id": "769e66a6",
   "metadata": {},
   "outputs": [
    {
     "data": {
      "text/plain": [
       "[Text(0.2, 0, 'LR_accum'), Text(1.2, 0, 'SVR_accum')]"
      ]
     },
     "execution_count": 59,
     "metadata": {},
     "output_type": "execute_result"
    },
    {
     "data": {
      "image/png": "[encoded data removed]",
      "text/plain": [
       "<Figure size 360x288 with 1 Axes>"
      ]
     },
     "metadata": {
      "needs_background": "light"
     },
     "output_type": "display_data"
    }
   ],
   "source": [
    "good_models=glob_metrics.loc[[1, 3]].drop(['score','mean_squared_error'],axis=1)\n",
    "idx = np.asarray([i for i in range(len(good_models['model']))])\n",
    "width=0.4\n",
    "fig_2 = plt.figure(figsize = (5,4))\n",
    "ax_2 = fig_2.add_axes([0,0,1,1])\n",
    "ax_2.bar(idx, good_models['mean_absolute_error'],width = width)\n",
    "ax_2.bar(idx+width, good_models['RMSE'],width = width)\n",
    "ax_2.set_xticks(idx+width/2)\n",
    "ax_2.set_xticklabels(good_models['model'])#, rotation=65)"
   ]
  }
 ],
 "metadata": {
  "kernelspec": {
   "display_name": "Python 3",
   "language": "python",
   "name": "python3"
  },
  "language_info": {
   "codemirror_mode": {
    "name": "ipython",
    "version": 3
   },
   "file_extension": ".py",
   "mimetype": "text/x-python",
   "name": "python",
   "nbconvert_exporter": "python",
   "pygments_lexer": "ipython3",
   "version": "3.8.8"
  }
 },
 "nbformat": 4,
 "nbformat_minor": 5
}
