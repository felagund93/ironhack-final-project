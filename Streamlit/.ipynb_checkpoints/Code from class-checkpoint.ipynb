{
 "cells": [
  {
   "cell_type": "code",
   "execution_count": 5,
   "id": "85ee82e9",
   "metadata": {},
   "outputs": [
    {
     "name": "stderr",
     "output_type": "stream",
     "text": [
      "2022-03-22 20:31:47.415 WARNING streamlit.state.auto_session_state: Session state does not function when running a script without `streamlit run`\n",
      "2022-03-22 20:31:47.469 \n",
      "  \u001b[33m\u001b[1mWarning:\u001b[0m to view this Streamlit app on a browser, run it with the following\n",
      "  command:\n",
      "\n",
      "    streamlit run /opt/anaconda3/lib/python3.8/site-packages/ipykernel_launcher.py [ARGUMENTS]\n",
      "2022-03-22 20:31:47.478 NumExpr defaulting to 8 threads.\n"
     ]
    },
    {
     "data": {
      "text/plain": [
       "DeltaGenerator(_root_container=0, _provided_cursor=None, _parent=None, _block_type=None, _form_data=None)"
      ]
     },
     "execution_count": 5,
     "metadata": {},
     "output_type": "execute_result"
    }
   ],
   "source": [
    "import streamlit as st\n",
    "import pandas as pd\n",
    "import numpy as np\n",
    "\n",
    "df = pd.DataFrame(\n",
    "    np.random.randint(0, 6, size=(9, 11)),\n",
    "    columns=['Albert', 'Emilia', 'Florian', 'Francisco', 'Geniva', 'Gonzalo', 'Guillermo', 'Aijay', 'Lydia', 'Pablo', 'Sanja'])\n",
    "\n",
    "if \"df\" not in st.session_state:\n",
    "   st.session_state.df = pd.DataFrame(\n",
    "   np.random.randint(0, 6, size=(9, 11)),\n",
    "   columns=['Albert', 'Emilia', 'Florian', 'Francisco', 'Geniva', 'Gonzalo', 'Guillermo', 'Aijay', 'Lydia', 'Pablo', 'Sanja'])\n",
    "else:\n",
    "   df = st.session_state.df\n",
    "\n",
    "\n",
    "st.header(\"Data Analytics Bootcamp Class.\")\n",
    "st.subheader(\"Students:\")\n",
    "\n",
    "st.write(\"Absences:\")\n",
    "st.text(\"Absences:\")\n",
    "\n",
    "st.table(df)\n",
    "# st.dataframe(df)\n",
    "\n",
    "### LINE CHART:\n",
    "# st.line_chart(df)\n",
    "\n",
    "### CHECKBOX:\n",
    "# if st.checkbox('Show absences plot'):\n",
    "#   st.line_chart(df)\n",
    "\n",
    "### SIDEBAR:\n",
    "unit = st.sidebar.slider('Which unit do lo like to see specifically?', min_value=0, max_value=8, value=0, step=1)\n",
    "st.write('Unit absences are:', df[df.index == unit]) \n",
    "\n",
    "### SLIDER:\n",
    "# unit = st.slider('Which unit do lo like to see?',\n",
    "#    min_value=0, max_value=8, value=0, step=1)\n",
    "# st.write('Unit absences are:', df[df.index == unit])\n",
    "\n",
    "\n",
    "### MULTIPLECHOICE:\n",
    "# student_absence = st.radio(\n",
    "#   'Choose your student to plot:',\n",
    "#   ('Albert', 'Emilia', 'Florian', 'Francisco', 'Geniva', 'Gonzalo', 'Guillermo', 'Aijay', 'Lydia', 'Pablo', 'Sanja'))\n",
    "\n",
    "\n",
    "### TEXT INPUT BOX (INSTEAD OF MULTIPLECHOICE):\n",
    "# student_name = st.sidebar.text_input(\"Which student do you like to see?\")\n",
    "# student_name\n",
    "\n",
    "### BUTTON:\n",
    "# if st.sidebar.button('Plotting the student absences:'):\n",
    "#   st.line_chart(df[student_name])\n",
    "# else:\n",
    "#   st.line_chart(df)\n",
    "\n",
    "\n",
    "### COLUMNS:\n",
    "left_column, right_column = st.columns(2)\n",
    "\n",
    "student_name = left_column.text_input(\"Which student do you like to see?\")\n",
    "\n",
    "with right_column:\n",
    "    plot = st.button('Plotting student absences:')\n",
    "\n",
    "if plot:\n",
    "    st.line_chart(df[student_name])\n",
    "\n",
    "\n",
    "### MAP:\n",
    "map_data = pd.DataFrame(\n",
    "   np.random.randn(1000, 2) / [50, 50] + [37.76, -122.4],\n",
    "   columns=['lat', 'lon'])\n",
    "# map_data\n",
    "st.map(map_data)"
   ]
  },
  {
   "cell_type": "code",
   "execution_count": null,
   "id": "0b38b152",
   "metadata": {},
   "outputs": [],
   "source": []
  }
 ],
 "metadata": {
  "kernelspec": {
   "display_name": "Python 3",
   "language": "python",
   "name": "python3"
  },
  "language_info": {
   "codemirror_mode": {
    "name": "ipython",
    "version": 3
   },
   "file_extension": ".py",
   "mimetype": "text/x-python",
   "name": "python",
   "nbconvert_exporter": "python",
   "pygments_lexer": "ipython3",
   "version": "3.8.8"
  }
 },
 "nbformat": 4,
 "nbformat_minor": 5
}
